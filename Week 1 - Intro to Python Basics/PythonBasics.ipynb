{
 "cells": [
  {
   "cell_type": "markdown",
   "metadata": {
    "id": "tPUbpFucig8R"
   },
   "source": [
    "\n",
    "***Day 1 and Day 2 complete***\n",
    "\n",
    "Where I learnt about the basics of python and the Python Data Types"
   ]
  },
  {
   "cell_type": "markdown",
   "metadata": {
    "id": "FQxIV1h844mw"
   },
   "source": [
    "**Syntax**\n"
   ]
  },
  {
   "cell_type": "code",
   "execution_count": 1,
   "metadata": {
    "colab": {
     "base_uri": "https://localhost:8080/"
    },
    "executionInfo": {
     "elapsed": 676,
     "status": "ok",
     "timestamp": 1735934080566,
     "user": {
      "displayName": "Pooja Sharma",
      "userId": "11264392840766783045"
     },
     "user_tz": -345
    },
    "id": "anXvt7jf2IeB",
    "outputId": "61205963-ec08-4e54-d7ee-a5b3b1b6e0dd"
   },
   "outputs": [
    {
     "name": "stdout",
     "output_type": "stream",
     "text": [
      "7\n"
     ]
    }
   ],
   "source": [
    "print(3+4)"
   ]
  },
  {
   "cell_type": "markdown",
   "metadata": {
    "id": "OMGWSPwy5IJZ"
   },
   "source": [
    "Sructure of Python Code\n",
    "1. Code Blocks and Indentation"
   ]
  },
  {
   "cell_type": "code",
   "execution_count": 2,
   "metadata": {
    "colab": {
     "base_uri": "https://localhost:8080/"
    },
    "executionInfo": {
     "elapsed": 19,
     "status": "ok",
     "timestamp": 1735934081031,
     "user": {
      "displayName": "Pooja Sharma",
      "userId": "11264392840766783045"
     },
     "user_tz": -345
    },
    "id": "FgmPO12_3DWJ",
    "outputId": "c1bb349c-38fd-41fa-e84a-ed012a29f1e1"
   },
   "outputs": [
    {
     "name": "stdout",
     "output_type": "stream",
     "text": [
      "x is positive\n"
     ]
    }
   ],
   "source": [
    "x=10\n",
    "if x > 0:\n",
    "  print('x is positive')"
   ]
  },
  {
   "cell_type": "markdown",
   "metadata": {
    "id": "pssOL_U441qi"
   },
   "source": [
    "2. Whitespace as Syntax"
   ]
  },
  {
   "cell_type": "code",
   "execution_count": 3,
   "metadata": {
    "executionInfo": {
     "elapsed": 18,
     "status": "ok",
     "timestamp": 1735934081031,
     "user": {
      "displayName": "Pooja Sharma",
      "userId": "11264392840766783045"
     },
     "user_tz": -345
    },
    "id": "ssPx51RN6NMD"
   },
   "outputs": [],
   "source": [
    "# Good use of whitespace\n",
    "a=10\n",
    "b=45\n",
    "sum = a + b\n",
    "# Harder to read due to lack of whitespace\n",
    "sum=a+b"
   ]
  },
  {
   "cell_type": "markdown",
   "metadata": {
    "id": "3k4zUzkp9O-R"
   },
   "source": [
    "**Operators**"
   ]
  },
  {
   "cell_type": "code",
   "execution_count": 4,
   "metadata": {
    "colab": {
     "base_uri": "https://localhost:8080/"
    },
    "executionInfo": {
     "elapsed": 18,
     "status": "ok",
     "timestamp": 1735934081032,
     "user": {
      "displayName": "Pooja Sharma",
      "userId": "11264392840766783045"
     },
     "user_tz": -345
    },
    "id": "wdY-D3937juQ",
    "outputId": "f71ddd7a-48df-4b4f-e86a-bc9746ddcbd9"
   },
   "outputs": [
    {
     "name": "stdout",
     "output_type": "stream",
     "text": [
      "7\n",
      "-1\n",
      "12\n",
      "0.75\n",
      "0\n",
      "3\n",
      "81\n"
     ]
    }
   ],
   "source": [
    "# Addition (+)\n",
    "print(3+4)\n",
    "# Subtractio (-)\n",
    "print (3-4)\n",
    "# Multiplication (*)\n",
    "print (3*4)\n",
    "# True Division (/)\n",
    "print (3/4)\n",
    "#  Floor Division (//)\n",
    "print (3//4)\n",
    "# Modulus (%)\n",
    "print (3%4)\n",
    "# Exponentiation (**)\n",
    "print (3**4)"
   ]
  },
  {
   "cell_type": "markdown",
   "metadata": {
    "id": "DzhQgo0j-1Yp"
   },
   "source": [
    "**Variables and Datatypes**"
   ]
  },
  {
   "cell_type": "code",
   "execution_count": 5,
   "metadata": {
    "colab": {
     "base_uri": "https://localhost:8080/"
    },
    "executionInfo": {
     "elapsed": 17,
     "status": "ok",
     "timestamp": 1735934081032,
     "user": {
      "displayName": "Pooja Sharma",
      "userId": "11264392840766783045"
     },
     "user_tz": -345
    },
    "id": "PWLcNIYz-s9z",
    "outputId": "ca2f0282-b5d1-4d57-bfad-98601938405e"
   },
   "outputs": [
    {
     "name": "stdout",
     "output_type": "stream",
     "text": [
      "10\n",
      "3.14\n",
      "Hello, Python!\n"
     ]
    },
    {
     "data": {
      "text/plain": [
       "str"
      ]
     },
     "execution_count": 5,
     "metadata": {},
     "output_type": "execute_result"
    }
   ],
   "source": [
    "# In python we dont need to explicitly define the variable like int,float, string etc\n",
    "# when we assign the value the variable the variable created,we can overwrites whatenver value it previously held\n",
    "\n",
    "\n",
    "# Interger\n",
    "my_integer =10\n",
    "\n",
    "# Float\n",
    "my_float = 3.14\n",
    "\n",
    "# String\n",
    "my_string = 'Hello, Python!'\n",
    "\n",
    "\n",
    "# Displaying the value\n",
    "print(my_integer)\n",
    "print(my_float)\n",
    "print(my_string)\n",
    "\n",
    "type(my_integer)\n",
    "type(my_float)\n",
    "type(my_string)"
   ]
  },
  {
   "cell_type": "code",
   "execution_count": 6,
   "metadata": {
    "colab": {
     "base_uri": "https://localhost:8080/"
    },
    "executionInfo": {
     "elapsed": 15,
     "status": "ok",
     "timestamp": 1735934081032,
     "user": {
      "displayName": "Pooja Sharma",
      "userId": "11264392840766783045"
     },
     "user_tz": -345
    },
    "id": "1gr3JIyrA_Kp",
    "outputId": "63a5a3dc-af18-431d-871b-c689ee085f1d"
   },
   "outputs": [
    {
     "data": {
      "text/plain": [
       "int"
      ]
     },
     "execution_count": 6,
     "metadata": {},
     "output_type": "execute_result"
    }
   ],
   "source": [
    "type(my_integer)\n"
   ]
  },
  {
   "cell_type": "code",
   "execution_count": 7,
   "metadata": {
    "colab": {
     "base_uri": "https://localhost:8080/"
    },
    "executionInfo": {
     "elapsed": 14,
     "status": "ok",
     "timestamp": 1735934081032,
     "user": {
      "displayName": "Pooja Sharma",
      "userId": "11264392840766783045"
     },
     "user_tz": -345
    },
    "id": "d94Yb1b8BXXc",
    "outputId": "698e1093-aaa4-4efb-9bf1-16cdb422e059"
   },
   "outputs": [
    {
     "data": {
      "text/plain": [
       "float"
      ]
     },
     "execution_count": 7,
     "metadata": {},
     "output_type": "execute_result"
    }
   ],
   "source": [
    "\n",
    "type(my_float)\n"
   ]
  },
  {
   "cell_type": "code",
   "execution_count": 8,
   "metadata": {
    "colab": {
     "base_uri": "https://localhost:8080/"
    },
    "executionInfo": {
     "elapsed": 13,
     "status": "ok",
     "timestamp": 1735934081032,
     "user": {
      "displayName": "Pooja Sharma",
      "userId": "11264392840766783045"
     },
     "user_tz": -345
    },
    "id": "64D3EK5mBbW5",
    "outputId": "b37ea527-943a-484a-daf4-eb0ae8ea0074"
   },
   "outputs": [
    {
     "data": {
      "text/plain": [
       "str"
      ]
     },
     "execution_count": 8,
     "metadata": {},
     "output_type": "execute_result"
    }
   ],
   "source": [
    "\n",
    "type(my_string)"
   ]
  },
  {
   "cell_type": "code",
   "execution_count": 9,
   "metadata": {
    "colab": {
     "base_uri": "https://localhost:8080/"
    },
    "executionInfo": {
     "elapsed": 12,
     "status": "ok",
     "timestamp": 1735934081032,
     "user": {
      "displayName": "Pooja Sharma",
      "userId": "11264392840766783045"
     },
     "user_tz": -345
    },
    "id": "_tyQi_9xBsO4",
    "outputId": "39dd4f0e-6504-403e-eb61-5c379c427915"
   },
   "outputs": [
    {
     "data": {
      "text/plain": [
       "7"
      ]
     },
     "execution_count": 9,
     "metadata": {},
     "output_type": "execute_result"
    }
   ],
   "source": [
    "3+4"
   ]
  },
  {
   "cell_type": "code",
   "execution_count": 10,
   "metadata": {
    "colab": {
     "base_uri": "https://localhost:8080/"
    },
    "executionInfo": {
     "elapsed": 10,
     "status": "ok",
     "timestamp": 1735934081032,
     "user": {
      "displayName": "Pooja Sharma",
      "userId": "11264392840766783045"
     },
     "user_tz": -345
    },
    "id": "xoxsGc11B7LK",
    "outputId": "a41d2cf4-afc6-4c52-d91f-e120a1b6825c"
   },
   "outputs": [
    {
     "data": {
      "text/plain": [
       "False"
      ]
     },
     "execution_count": 10,
     "metadata": {},
     "output_type": "execute_result"
    }
   ],
   "source": [
    "4=='hi'"
   ]
  },
  {
   "cell_type": "markdown",
   "metadata": {
    "id": "Eh257sz_Fu-C"
   },
   "source": [
    "**More** **about** **Data** **Types**"
   ]
  },
  {
   "cell_type": "code",
   "execution_count": 11,
   "metadata": {
    "executionInfo": {
     "elapsed": 9,
     "status": "ok",
     "timestamp": 1735934081032,
     "user": {
      "displayName": "Pooja Sharma",
      "userId": "11264392840766783045"
     },
     "user_tz": -345
    },
    "id": "ePlQsvRdEOYs"
   },
   "outputs": [],
   "source": [
    "# Boolean\n",
    "is_raining =True\n",
    "is_sunny =False\n",
    "# None Type\n",
    "result=None"
   ]
  },
  {
   "cell_type": "markdown",
   "metadata": {
    "id": "59v4Ei2_GWyh"
   },
   "source": [
    "**Logical and COmparison Operators**\n",
    "\n",
    "Logical Operators:\n",
    "\n",
    "* and: Returns True if both operands are true.\n",
    "\n",
    "* or: Returns True if at least one of the operands is true.\n",
    "\n",
    "* not: Returns True if the operand is false.\n"
   ]
  },
  {
   "cell_type": "code",
   "execution_count": 12,
   "metadata": {
    "executionInfo": {
     "elapsed": 9,
     "status": "ok",
     "timestamp": 1735934081032,
     "user": {
      "displayName": "Pooja Sharma",
      "userId": "11264392840766783045"
     },
     "user_tz": -345
    },
    "id": "9HWrqeBNGG3L"
   },
   "outputs": [],
   "source": [
    "if is_raining and is_sunny:\n",
    "    print(\"Look for a rainbow!\")"
   ]
  },
  {
   "cell_type": "markdown",
   "metadata": {
    "id": "BtPgEyPCIJcP"
   },
   "source": [
    "Comparison Operators\n",
    "\n",
    "* == and !=: Check for equality and inequality.\n",
    "\n",
    "* <, >, <=, >=: Compare numeric values for less than, greater than, less than or equal to, and greater than or equal to.\n",
    "\n",
    "* is and is not: Check for object identity.\n",
    "\n",
    "* in and not in: Check for membership in a collection (like lists, strings)."
   ]
  },
  {
   "cell_type": "code",
   "execution_count": 13,
   "metadata": {
    "colab": {
     "base_uri": "https://localhost:8080/"
    },
    "executionInfo": {
     "elapsed": 9,
     "status": "ok",
     "timestamp": 1735934081032,
     "user": {
      "displayName": "Pooja Sharma",
      "userId": "11264392840766783045"
     },
     "user_tz": -345
    },
    "id": "WEDbmdEJHmz0",
    "outputId": "ded2b13b-511e-4077-8af3-465ae0941503"
   },
   "outputs": [
    {
     "name": "stdout",
     "output_type": "stream",
     "text": [
      "It's a warm day.\n",
      "The letter is in the word.\n"
     ]
    }
   ],
   "source": [
    "temperature= 34\n",
    "if temperature >= 25:\n",
    "    print(\"It's a warm day.\")\n",
    "if 'a' in 'cat':\n",
    "    print(\"The letter is in the word.\")"
   ]
  },
  {
   "cell_type": "markdown",
   "metadata": {
    "id": "XH2cg_fRWEP6"
   },
   "source": [
    "Create a program that determines if a person is eligible for a specific discount at a store. The discount criteria are as follows:\n",
    "\n",
    "* The person must be either a senior citizen (age 65 or older) or a student.\n",
    "\n",
    "* The total purchase amount must be more than $50.\n",
    "\n",
    "* If today is Tuesday, there’s an additional 5% discount for everyone.\n",
    "\n",
    "Write a program that takes three inputs: age, student status (True/False), total purchase amount, and whether today is Tuesday (True/False). The program should output whether the person is eligible for the discount and the final price after any additional Tuesday discount.\n"
   ]
  },
  {
   "cell_type": "code",
   "execution_count": 14,
   "metadata": {
    "executionInfo": {
     "elapsed": 7,
     "status": "ok",
     "timestamp": 1735934081032,
     "user": {
      "displayName": "Pooja Sharma",
      "userId": "11264392840766783045"
     },
     "user_tz": -345
    },
    "id": "-T65D8tuIHw-"
   },
   "outputs": [],
   "source": [
    "def calculate_discount(age,is_student,total_purchase,is_tuesday):\n",
    "  discount_eligible=( age >= 65  or is_student) and total_purchase > 50\n",
    "  total_amount= total_purchase\n",
    "  if discount_eligible and is_tuesday:\n",
    "    total_amount*=0.95\n",
    "  return discount_eligible,total_amount"
   ]
  },
  {
   "cell_type": "code",
   "execution_count": 15,
   "metadata": {
    "colab": {
     "base_uri": "https://localhost:8080/"
    },
    "executionInfo": {
     "elapsed": 7,
     "status": "ok",
     "timestamp": 1735934081032,
     "user": {
      "displayName": "Pooja Sharma",
      "userId": "11264392840766783045"
     },
     "user_tz": -345
    },
    "id": "lio4bpvlZZNJ",
    "outputId": "12114401-456a-4e7c-c8b6-e43fb169570c"
   },
   "outputs": [
    {
     "name": "stdout",
     "output_type": "stream",
     "text": [
      "Eligibility:True\n",
      "Total:57.00\n"
     ]
    }
   ],
   "source": [
    "eleg,Tot=calculate_discount(30,True,60,True)\n",
    "print(f'Eligibility:{eleg}')\n",
    "print(f'Total:{Tot:.2f}')"
   ]
  },
  {
   "cell_type": "code",
   "execution_count": 16,
   "metadata": {
    "colab": {
     "base_uri": "https://localhost:8080/"
    },
    "executionInfo": {
     "elapsed": 6,
     "status": "ok",
     "timestamp": 1735934081032,
     "user": {
      "displayName": "Pooja Sharma",
      "userId": "11264392840766783045"
     },
     "user_tz": -345
    },
    "id": "1EHltWy5ZvXF",
    "outputId": "84415f1c-0fb5-4912-d906-3492f70f1d63"
   },
   "outputs": [
    {
     "name": "stdout",
     "output_type": "stream",
     "text": [
      "Discount Eligible: True\n",
      "Final Price: $57.00\n"
     ]
    }
   ],
   "source": [
    "age=45\n",
    "student=True\n",
    "total_purchase=60\n",
    "tuesday=True\n",
    "\n",
    "eligible,Total=calculate_discount(age,student,total_purchase,tuesday)\n",
    "print(f'Discount Eligible: {eligible}')\n",
    "print(f'Final Price: ${Total:.2f}')"
   ]
  },
  {
   "cell_type": "markdown",
   "metadata": {
    "id": "XtN45wrliAUt"
   },
   "source": [
    "Problem Statement: Write a program to determine if a customer is eligible for a membership upgrade at a gym. The criteria for the upgrade are:\n",
    "\n",
    "* The customer must have been a member for at least 2 years or be over the age of 60.\n",
    "\n",
    "* The customer must have attended at least 100 gym sessions.\n",
    "\n",
    "* If the customer has referred more than 3 friends, they get an automatic upgrade regardless of other criteria.\n",
    "\n",
    "The program should take four inputs: years of membership, age, number of gym sessions attended, and number of friends referred. Output whether the customer is eligible for the membership upgrade."
   ]
  },
  {
   "cell_type": "code",
   "execution_count": 17,
   "metadata": {
    "executionInfo": {
     "elapsed": 5,
     "status": "ok",
     "timestamp": 1735934081032,
     "user": {
      "displayName": "Pooja Sharma",
      "userId": "11264392840766783045"
     },
     "user_tz": -345
    },
    "id": "k5xjHkU7bNdw"
   },
   "outputs": [],
   "source": [
    "def membership_upgrade(year_of_membership,age,number_session_attend,number_friend_referred):\n",
    "  if ( year_of_membership >= 2  or age >=60) and number_session_attend >= 100 :\n",
    "    print('Customer is eligible for the membership upgrade')\n",
    "  elif number_friend_referred > 3:\n",
    "    print('Customer is eligible for the membership upgrade')\n",
    "  else:\n",
    "     print('Customer is not eligible for the membership upgrade')\n",
    "  # if eligible=(( year_of_membership >= 2  or age >=60) and number_session_attend >= 100) or number_friend_referred > 3 :\n",
    "    #  print('Customer is eligible for the membership upgrade')\n",
    "  # else:\n",
    "    # print('Customer is not eligible for the membership upgrade')\n",
    "\n"
   ]
  },
  {
   "cell_type": "code",
   "execution_count": 19,
   "metadata": {
    "colab": {
     "base_uri": "https://localhost:8080/"
    },
    "executionInfo": {
     "elapsed": 5,
     "status": "ok",
     "timestamp": 1735934081032,
     "user": {
      "displayName": "Pooja Sharma",
      "userId": "11264392840766783045"
     },
     "user_tz": -345
    },
    "id": "mC1ER-2gfrZ6",
    "outputId": "f6d3b59f-53dc-4217-cbd1-cf239f1b96a3"
   },
   "outputs": [
    {
     "name": "stdout",
     "output_type": "stream",
     "text": [
      "Customer is not eligible for the membership upgrade\n"
     ]
    }
   ],
   "source": [
    "membership_upgrade(1,50,100,3)\n"
   ]
  },
  {
   "cell_type": "code",
   "execution_count": null,
   "metadata": {},
   "outputs": [],
   "source": []
  }
 ],
 "metadata": {
  "colab": {
   "authorship_tag": "ABX9TyOL3EjzZLRMR8ZUnkcBUp2u",
   "provenance": [],
   "toc_visible": true
  },
  "kernelspec": {
   "display_name": "Python 3 (ipykernel)",
   "language": "python",
   "name": "python3"
  },
  "language_info": {
   "codemirror_mode": {
    "name": "ipython",
    "version": 3
   },
   "file_extension": ".py",
   "mimetype": "text/x-python",
   "name": "python",
   "nbconvert_exporter": "python",
   "pygments_lexer": "ipython3",
   "version": "3.12.4"
  }
 },
 "nbformat": 4,
 "nbformat_minor": 4
}
