{
 "cells": [
  {
   "cell_type": "markdown",
   "metadata": {
    "id": "3wnTFEzZfJCF"
   },
   "source": [
    "**Control Structure in Python**\n",
    "\n",
    "Day 4: Loops\n",
    "\n",
    "Day 5: Conditional Statements"
   ]
  },
  {
   "cell_type": "markdown",
   "metadata": {
    "id": "zoyFiQh1f-rv"
   },
   "source": [
    "**Why Loops ?**\n",
    "\n",
    "Loop allows us to execute a block of code repeatedly,under certain conditions.\n",
    "\n",
    "It enables to avoid the repetative code, making our scripts shorter and readable.\n",
    "\n",
    "Particularly helpful when dealing with the large datasets.\n",
    "\n",
    "Effective use of loops lead to cleaner, more organized and more maitainable code.\n"
   ]
  },
  {
   "cell_type": "markdown",
   "metadata": {
    "id": "j7cQeFGQhn4s"
   },
   "source": [
    "**Collection Data Types**"
   ]
  },
  {
   "cell_type": "code",
   "execution_count": 1,
   "metadata": {
    "colab": {
     "base_uri": "https://localhost:8080/"
    },
    "executionInfo": {
     "elapsed": 1059,
     "status": "ok",
     "timestamp": 1736093014392,
     "user": {
      "displayName": "Pooja Sharma",
      "userId": "11264392840766783045"
     },
     "user_tz": -345
    },
    "id": "kgJ9c5HvfBcs",
    "outputId": "d8f29b96-6d00-4cde-906e-12e912b10b66"
   },
   "outputs": [
    {
     "name": "stdout",
     "output_type": "stream",
     "text": [
      "6\n"
     ]
    },
    {
     "data": {
      "text/plain": [
       "3"
      ]
     },
     "execution_count": 1,
     "metadata": {},
     "output_type": "execute_result"
    }
   ],
   "source": [
    "# List Type\n",
    "my_list=[1,2,3,'Pooja',True,4.5]\n",
    "# Dictionary Type\n",
    "my_dict={'name':'Pooja','age':23,'language':'Python'}\n",
    "print(len(my_list))\n",
    "len(my_dict)"
   ]
  },
  {
   "cell_type": "code",
   "execution_count": 2,
   "metadata": {
    "colab": {
     "base_uri": "https://localhost:8080/"
    },
    "executionInfo": {
     "elapsed": 1146,
     "status": "ok",
     "timestamp": 1736093016276,
     "user": {
      "displayName": "Pooja Sharma",
      "userId": "11264392840766783045"
     },
     "user_tz": -345
    },
    "id": "uhh3yfUAhyqz",
    "outputId": "5e876820-bc80-430b-9b3b-f5f95bdd4b3d"
   },
   "outputs": [
    {
     "data": {
      "text/plain": [
       "3"
      ]
     },
     "execution_count": 2,
     "metadata": {},
     "output_type": "execute_result"
    }
   ],
   "source": [
    "my_list[2]"
   ]
  },
  {
   "cell_type": "code",
   "execution_count": 3,
   "metadata": {
    "colab": {
     "base_uri": "https://localhost:8080/",
     "height": 36
    },
    "executionInfo": {
     "elapsed": 83,
     "status": "ok",
     "timestamp": 1736093016277,
     "user": {
      "displayName": "Pooja Sharma",
      "userId": "11264392840766783045"
     },
     "user_tz": -345
    },
    "id": "5uVeyoqziw37",
    "outputId": "652ebf77-bb90-4e2c-b82b-32c113e3553a"
   },
   "outputs": [
    {
     "data": {
      "text/plain": [
       "'Pooja'"
      ]
     },
     "execution_count": 3,
     "metadata": {},
     "output_type": "execute_result"
    }
   ],
   "source": [
    "my_dict['name']"
   ]
  },
  {
   "cell_type": "markdown",
   "metadata": {
    "id": "dr0aA2OujEyM"
   },
   "source": [
    "**The While Loop**\n",
    "\n",
    "It executes a block of code as long as a soecified condition is true.\n",
    "Useful when the number of itereations is not known beforehand.\n"
   ]
  },
  {
   "cell_type": "code",
   "execution_count": 4,
   "metadata": {
    "colab": {
     "base_uri": "https://localhost:8080/"
    },
    "executionInfo": {
     "elapsed": 78,
     "status": "ok",
     "timestamp": 1736093016278,
     "user": {
      "displayName": "Pooja Sharma",
      "userId": "11264392840766783045"
     },
     "user_tz": -345
    },
    "id": "cXeNnrPOi5Fe",
    "outputId": "84ad7c4c-8574-4cf7-fed1-4e00a2d6951e"
   },
   "outputs": [
    {
     "name": "stdout",
     "output_type": "stream",
     "text": [
      "0\n",
      "1\n",
      "2\n",
      "3\n",
      "4\n",
      "5 \n",
      "\n",
      "4\n",
      "3\n",
      "2\n",
      "1\n",
      "0\n"
     ]
    }
   ],
   "source": [
    "count=0\n",
    "while count< 5:\n",
    "  print(count)\n",
    "  count+=1\n",
    "print(count,'\\n')\n",
    "\n",
    "\n",
    "# while count>0:\n",
    "#   print(count)\n",
    "#   count-=1\n",
    "\n",
    "\n",
    "while count>0:\n",
    "  count-=1\n",
    "  print(count)"
   ]
  },
  {
   "cell_type": "code",
   "execution_count": 5,
   "metadata": {
    "id": "pNRr2dokqBDx"
   },
   "outputs": [],
   "source": [
    "# Warning About Infinite Loops #\n",
    "# Warning: This is an exampele of infinite loop\n",
    "# while True:\n",
    "#   print('Infinite Loop')"
   ]
  },
  {
   "cell_type": "markdown",
   "metadata": {
    "id": "EPVfFU6bq7qb"
   },
   "source": [
    "**Difficulty with Dictionaries**\n",
    "\n",
    "Iterating over dictionaries with while loops is less starightforward because dictionaries are not inherently ordered, and loop requires external manipulation of the keys or values."
   ]
  },
  {
   "cell_type": "markdown",
   "metadata": {
    "id": "f7s_HoQLt9r6"
   },
   "source": [
    "**The For Loops**\n",
    "\n",
    "It is used for iterating over a sequence, such as a list, tuple, dictionary, or string.\n",
    "\n",
    "Its more concise and preferable when the number of iterations is known or defined by the collection."
   ]
  },
  {
   "cell_type": "code",
   "execution_count": 6,
   "metadata": {
    "colab": {
     "base_uri": "https://localhost:8080/"
    },
    "executionInfo": {
     "elapsed": 73,
     "status": "ok",
     "timestamp": 1736093016279,
     "user": {
      "displayName": "Pooja Sharma",
      "userId": "11264392840766783045"
     },
     "user_tz": -345
    },
    "id": "9AacwZtYqjaq",
    "outputId": "1be1dea0-d500-4eef-e9d6-f7a2303ff179"
   },
   "outputs": [
    {
     "name": "stdout",
     "output_type": "stream",
     "text": [
      "1\n",
      "2\n",
      "3\n",
      "Pooja\n",
      "True\n",
      "4.5\n",
      "\n",
      "\n",
      "name\n",
      "age\n",
      "language\n",
      "\n",
      "\n",
      "Pooja\n",
      "23\n",
      "Python\n",
      "\n",
      "\n",
      "name:Pooja\n",
      "age:23\n",
      "language:Python\n"
     ]
    }
   ],
   "source": [
    "# for item in my_list:\n",
    "#   print(item)\n",
    "\n",
    "# Iterating through a List\n",
    "for element in my_list:\n",
    "  print(element)\n",
    "# Iterating Through Dictionary : Iterating through a dictionary can be done over keys, values, or key-value pairs.\n",
    "print('\\n')\n",
    "for key in my_dict:\n",
    "  print(key)\n",
    "\n",
    "print('\\n')\n",
    "for value in my_dict.values():\n",
    "  print(value)\n",
    "\n",
    "print('\\n')\n",
    "for key,value in my_dict.items():\n",
    "  print(f'{key}:{value}')"
   ]
  },
  {
   "cell_type": "markdown",
   "metadata": {
    "id": "_Qt4EWHNxh__"
   },
   "source": [
    "**Range objects**\n",
    "\n",
    "In Python range object generates a sequence of numbers.Often use in for loops for specify the number of iteretions. The range function can take one ,two or three arguments:start,stop and step"
   ]
  },
  {
   "cell_type": "code",
   "execution_count": 7,
   "metadata": {
    "colab": {
     "base_uri": "https://localhost:8080/"
    },
    "executionInfo": {
     "elapsed": 69,
     "status": "ok",
     "timestamp": 1736093016280,
     "user": {
      "displayName": "Pooja Sharma",
      "userId": "11264392840766783045"
     },
     "user_tz": -345
    },
    "id": "vSFhYgc1u0td",
    "outputId": "12a4fcb9-e62d-4753-83d2-2b61e26c2bc6"
   },
   "outputs": [
    {
     "name": "stdout",
     "output_type": "stream",
     "text": [
      "0\n",
      "1\n",
      "2\n",
      "3\n",
      "4\n",
      "\n",
      "\n",
      "2\n",
      "3\n",
      "4\n",
      "5\n",
      "\n",
      "\n",
      "5\n",
      "7\n",
      "9\n"
     ]
    }
   ],
   "source": [
    "for i in range(5):\n",
    "  print(i)\n",
    "\n",
    "print('\\n')\n",
    "for i in range (2,6):\n",
    "  print(i)\n",
    "\n",
    "print('\\n')\n",
    "for i in range(5,11,2):\n",
    "  print(i)\n"
   ]
  },
  {
   "cell_type": "code",
   "execution_count": 8,
   "metadata": {
    "colab": {
     "base_uri": "https://localhost:8080/"
    },
    "executionInfo": {
     "elapsed": 64,
     "status": "ok",
     "timestamp": 1736093016280,
     "user": {
      "displayName": "Pooja Sharma",
      "userId": "11264392840766783045"
     },
     "user_tz": -345
    },
    "id": "vXdrnzEgyfGG",
    "outputId": "c30a408b-2eb3-43ca-9695-e77d3931c537"
   },
   "outputs": [
    {
     "name": "stdout",
     "output_type": "stream",
     "text": [
      "<class 'int'> 1\n",
      "<class 'int'> 2\n",
      "<class 'int'> 3\n",
      "<class 'str'> Pooja\n",
      "<class 'bool'> True\n",
      "<class 'float'> 4.5\n"
     ]
    }
   ],
   "source": [
    "for thing in my_list:\n",
    "  print(type(thing),thing)"
   ]
  },
  {
   "cell_type": "markdown",
   "metadata": {
    "id": "asM6kzfez2Lv"
   },
   "source": [
    "**Understanding \"breaks\" , \"continue\" and the \"else\" Clause in Loops**\n",
    "\n"
   ]
  },
  {
   "cell_type": "markdown",
   "metadata": {
    "id": "C_H96dAi0XTu"
   },
   "source": [
    "**The break Statement**\n",
    "\n",
    "It is used to exit a loop prematurely, regardless of the iteration condition.\n",
    "Usage in for and while loops."
   ]
  },
  {
   "cell_type": "code",
   "execution_count": 9,
   "metadata": {
    "colab": {
     "base_uri": "https://localhost:8080/"
    },
    "executionInfo": {
     "elapsed": 61,
     "status": "ok",
     "timestamp": 1736093016281,
     "user": {
      "displayName": "Pooja Sharma",
      "userId": "11264392840766783045"
     },
     "user_tz": -345
    },
    "id": "5FIICPc8zoKv",
    "outputId": "a1a83eaf-54fb-4281-941d-87c78383d0a7"
   },
   "outputs": [
    {
     "name": "stdout",
     "output_type": "stream",
     "text": [
      "5\n",
      "6\n",
      "7\n",
      "8\n"
     ]
    }
   ],
   "source": [
    "for i in range(5,10):\n",
    "  print(i)\n",
    "  if i==8:\n",
    "    break\n",
    "\n"
   ]
  },
  {
   "cell_type": "code",
   "execution_count": 10,
   "metadata": {
    "colab": {
     "base_uri": "https://localhost:8080/"
    },
    "executionInfo": {
     "elapsed": 54,
     "status": "ok",
     "timestamp": 1736093016281,
     "user": {
      "displayName": "Pooja Sharma",
      "userId": "11264392840766783045"
     },
     "user_tz": -345
    },
    "id": "QF15Q75B1ws2",
    "outputId": "a0c77866-423d-4c39-cc5d-bca24b84195e"
   },
   "outputs": [
    {
     "name": "stdout",
     "output_type": "stream",
     "text": [
      "0\n",
      "1\n",
      "2\n",
      "3\n",
      "4\n",
      "5\n"
     ]
    }
   ],
   "source": [
    "count=0\n",
    "while count < 10:\n",
    "  print(count)\n",
    "\n",
    "  if count==5:\n",
    "    break\n",
    "  count+=1"
   ]
  },
  {
   "cell_type": "markdown",
   "metadata": {
    "id": "j6eixtf6_yGT"
   },
   "source": [
    "**The Continue Statement**\n",
    "\n",
    "It skips the current iteration and moves onto the next iteration of the loop. Usage in both for and while loops."
   ]
  },
  {
   "cell_type": "code",
   "execution_count": 11,
   "metadata": {
    "colab": {
     "base_uri": "https://localhost:8080/"
    },
    "executionInfo": {
     "elapsed": 51,
     "status": "ok",
     "timestamp": 1736093016282,
     "user": {
      "displayName": "Pooja Sharma",
      "userId": "11264392840766783045"
     },
     "user_tz": -345
    },
    "id": "R8tyIiSt2Y8w",
    "outputId": "e333c067-88ba-443d-9f5d-cd44fe6afb50"
   },
   "outputs": [
    {
     "name": "stdout",
     "output_type": "stream",
     "text": [
      "1\n",
      "3\n",
      "5\n",
      "7\n",
      "9\n"
     ]
    }
   ],
   "source": [
    "for num in range(1,10):\n",
    "  if num % 2 == 0:\n",
    "    continue\n",
    "  print(num)"
   ]
  },
  {
   "cell_type": "markdown",
   "metadata": {
    "id": "jgTGfruLBYFX"
   },
   "source": [
    "**The else Clause of a for loop**\n",
    "\n",
    "The else clause in a for loop executes after the loop finishes its iterations, but only if the loop was not terminated by a break"
   ]
  },
  {
   "cell_type": "code",
   "execution_count": 12,
   "metadata": {
    "colab": {
     "base_uri": "https://localhost:8080/"
    },
    "executionInfo": {
     "elapsed": 49,
     "status": "ok",
     "timestamp": 1736093016283,
     "user": {
      "displayName": "Pooja Sharma",
      "userId": "11264392840766783045"
     },
     "user_tz": -345
    },
    "id": "q8oFFd0IAWE4",
    "outputId": "7be57c0d-2cb9-42b7-b093-89fbfaba00cd"
   },
   "outputs": [
    {
     "name": "stdout",
     "output_type": "stream",
     "text": [
      "1\n",
      "2\n",
      "3\n",
      "4\n",
      "5\n"
     ]
    }
   ],
   "source": [
    "for n in range(1,10):\n",
    "  if n == 6:\n",
    "    break\n",
    "  print(n)\n",
    "else:\n",
    "  print('10 is not found in the range')"
   ]
  },
  {
   "cell_type": "code",
   "execution_count": 13,
   "metadata": {
    "colab": {
     "base_uri": "https://localhost:8080/"
    },
    "executionInfo": {
     "elapsed": 45,
     "status": "ok",
     "timestamp": 1736093016283,
     "user": {
      "displayName": "Pooja Sharma",
      "userId": "11264392840766783045"
     },
     "user_tz": -345
    },
    "id": "CjFKC3GUCYtQ",
    "outputId": "4ab3c2f7-3e39-4231-ba62-ba1ac4e2c5b0"
   },
   "outputs": [
    {
     "name": "stdout",
     "output_type": "stream",
     "text": [
      "2\n",
      "4\n",
      "6\n",
      "8\n",
      "10\n"
     ]
    }
   ],
   "source": [
    "for n in range(1,11):\n",
    "  if n % 2:\n",
    "    continue\n",
    "  print(n)"
   ]
  },
  {
   "cell_type": "code",
   "execution_count": 14,
   "metadata": {
    "colab": {
     "base_uri": "https://localhost:8080/"
    },
    "executionInfo": {
     "elapsed": 44,
     "status": "ok",
     "timestamp": 1736093016284,
     "user": {
      "displayName": "Pooja Sharma",
      "userId": "11264392840766783045"
     },
     "user_tz": -345
    },
    "id": "bo-L3pyRDPCk",
    "outputId": "32f6dac9-ddba-46c4-b36b-0d127f79ebe9"
   },
   "outputs": [
    {
     "name": "stdout",
     "output_type": "stream",
     "text": [
      "[1, 2, 3, 'Pooja', True, 4.5]\n"
     ]
    }
   ],
   "source": [
    "print(my_list)"
   ]
  },
  {
   "cell_type": "code",
   "execution_count": 15,
   "metadata": {
    "colab": {
     "base_uri": "https://localhost:8080/"
    },
    "executionInfo": {
     "elapsed": 40,
     "status": "ok",
     "timestamp": 1736093016284,
     "user": {
      "displayName": "Pooja Sharma",
      "userId": "11264392840766783045"
     },
     "user_tz": -345
    },
    "id": "RiEH5Ap9HGwk",
    "outputId": "30818122-379d-4f51-b664-555fe6f0c81f"
   },
   "outputs": [
    {
     "name": "stdout",
     "output_type": "stream",
     "text": [
      "Entire list searched; content not found\n"
     ]
    }
   ],
   "source": [
    "search_for = 'Python'\n",
    "# enumerate() adds a counter to an iterable and returns it as an enumerate object, providing both index and value during iteration\n",
    "for i , value in enumerate(my_list):\n",
    "  if value == search_for:\n",
    "    print('Found the target @ index ', i)\n",
    "    break\n",
    "else:\n",
    "  print('Entire list searched; content not found')"
   ]
  },
  {
   "cell_type": "markdown",
   "metadata": {
    "id": "aJrrFmI7Lsiu"
   },
   "source": [
    "**Project: Combining Arithmetic, Boolean Logic, and Loops**"
   ]
  },
  {
   "cell_type": "markdown",
   "metadata": {
    "id": "hKLYFHZyL6SV"
   },
   "source": [
    "**Example Program 1: Prime Number Checker**\n",
    "\n",
    "Problem Statement: Create a program that checks whether a number is a prime number. A prime number is a natural number greater than 1 that has no positive divisors other than 1 and itself.\n",
    "\n"
   ]
  },
  {
   "cell_type": "code",
   "execution_count": 16,
   "metadata": {
    "id": "up4GXxZ0JigD"
   },
   "outputs": [],
   "source": [
    "def is_prime(num):\n",
    "  if num <= 1:\n",
    "    return False\n",
    "  for i in range(2,num):\n",
    "    if num % i == 0:\n",
    "      return False\n",
    "  return True"
   ]
  },
  {
   "cell_type": "code",
   "execution_count": 17,
   "metadata": {
    "colab": {
     "base_uri": "https://localhost:8080/"
    },
    "executionInfo": {
     "elapsed": 38,
     "status": "ok",
     "timestamp": 1736093016285,
     "user": {
      "displayName": "Pooja Sharma",
      "userId": "11264392840766783045"
     },
     "user_tz": -345
    },
    "id": "EX2aKo6VNVFs",
    "outputId": "2a208a54-3bac-4ef0-a2bb-04205443653b"
   },
   "outputs": [
    {
     "name": "stdout",
     "output_type": "stream",
     "text": [
      "10 is not a prime number\n"
     ]
    }
   ],
   "source": [
    "num = 10\n",
    "if is_prime(num):\n",
    "  print(f'{num} is a prime number')\n",
    "else:\n",
    "  print(f'{num} is not a prime number')"
   ]
  },
  {
   "cell_type": "markdown",
   "metadata": {
    "id": "ek5nP7c1OJwa"
   },
   "source": [
    "**Example Program 2: Basic Arithmetic Quiz**\n",
    "\n",
    "Problem Statement: Create a simple arithmetic quiz program that asks the user to solve a series of basic math problems (addition, subtraction, multiplication). The program should:\n",
    "\n",
    "* Present a new problem in each iteration of the loop.\n",
    "\n",
    "* Ask the user for their answer.\n",
    "\n",
    "* Use boolean logic to check if the answer is correct.\n",
    "\n",
    "* Give immediate feedback (correct/incorrect) and provide the correct answer if incorrect.\n",
    "\n",
    "* End the quiz after a certain number of questions."
   ]
  },
  {
   "cell_type": "code",
   "execution_count": 18,
   "metadata": {
    "colab": {
     "base_uri": "https://localhost:8080/"
    },
    "executionInfo": {
     "elapsed": 137973,
     "status": "ok",
     "timestamp": 1736093154229,
     "user": {
      "displayName": "Pooja Sharma",
      "userId": "11264392840766783045"
     },
     "user_tz": -345
    },
    "id": "gJ8BiK2fNd_J",
    "outputId": "68578af5-517c-49d1-eb84-106674ff9535"
   },
   "outputs": [
    {
     "name": "stdin",
     "output_type": "stream",
     "text": [
      "Question 1:What is 5 * 12?\n",
      " 60\n"
     ]
    },
    {
     "name": "stdout",
     "output_type": "stream",
     "text": [
      "Correct!\n"
     ]
    },
    {
     "name": "stdin",
     "output_type": "stream",
     "text": [
      "Question 2:What is 20 - 11?\n",
      " 9\n"
     ]
    },
    {
     "name": "stdout",
     "output_type": "stream",
     "text": [
      "Correct!\n"
     ]
    },
    {
     "name": "stdin",
     "output_type": "stream",
     "text": [
      "Question 3:What is 7 * 8?\n",
      " 56\n"
     ]
    },
    {
     "name": "stdout",
     "output_type": "stream",
     "text": [
      "Correct!\n"
     ]
    },
    {
     "name": "stdin",
     "output_type": "stream",
     "text": [
      "Question 4:What is 13 - 15?\n",
      " 2\n"
     ]
    },
    {
     "name": "stdout",
     "output_type": "stream",
     "text": [
      "Incorrect. The correct answer is -2\n"
     ]
    },
    {
     "name": "stdin",
     "output_type": "stream",
     "text": [
      "Question 5:What is 4 - 8?\n",
      " 4\n"
     ]
    },
    {
     "name": "stdout",
     "output_type": "stream",
     "text": [
      "Incorrect. The correct answer is -4\n"
     ]
    }
   ],
   "source": [
    "import random\n",
    "\n",
    "# set the number of questions\n",
    "total_question=5\n",
    "\n",
    "\n",
    "for i in range(total_question):\n",
    "  # Generate 2 number randomly from the given range and random operation\n",
    "  num1 = random.randint(1,20)\n",
    "  num2 = random.randint(1,20)\n",
    "  operation = random.choice(['+','-','*'])\n",
    "  correct_ans = 0\n",
    "\n",
    "  # Calculate the correct answer\n",
    "  if operation == '+':\n",
    "    correct_ans= num1 + num2\n",
    "  elif operation == '-':\n",
    "    correct_ans = num1 - num2\n",
    "  elif operation == '*':\n",
    "    correct_ans = num1 * num2\n",
    "\n",
    "  # Ask the user for theie answer\n",
    "  user_ans=int(input(f'Question {i+1}:What is {num1} {operation} {num2}?\\n'))\n",
    "\n",
    "  # Check if the answer provided by the user is correct or not and provide the feedback\n",
    "  if user_ans == correct_ans:\n",
    "    print('Correct!')\n",
    "  else:\n",
    "    print(f'Incorrect. The correct answer is {correct_ans}')\n",
    "\n",
    "\n",
    "\n"
   ]
  },
  {
   "cell_type": "markdown",
   "metadata": {
    "id": "7HGsz3UYNOPy"
   },
   "source": [
    "**Control Structures - Conditionals**\n"
   ]
  },
  {
   "cell_type": "code",
   "execution_count": 19,
   "metadata": {
    "colab": {
     "base_uri": "https://localhost:8080/"
    },
    "executionInfo": {
     "elapsed": 1163,
     "status": "ok",
     "timestamp": 1736093299850,
     "user": {
      "displayName": "Pooja Sharma",
      "userId": "11264392840766783045"
     },
     "user_tz": -345
    },
    "id": "sdY44xrxPneH",
    "outputId": "91faf613-1c73-41e0-a559-e307757c116f"
   },
   "outputs": [
    {
     "name": "stdout",
     "output_type": "stream",
     "text": [
      "Correct!\n"
     ]
    }
   ],
   "source": [
    "# If This, Then That\n",
    "\n",
    "x = 42\n",
    "\n",
    "if x > 40:\n",
    "  print(\"Correct!\")\n",
    "\n",
    "# Otherwise, Do This!\n",
    "else:\n",
    "  print(\"Incorrect\")\n"
   ]
  },
  {
   "cell_type": "code",
   "execution_count": 20,
   "metadata": {
    "colab": {
     "base_uri": "https://localhost:8080/"
    },
    "executionInfo": {
     "elapsed": 518,
     "status": "ok",
     "timestamp": 1736093597971,
     "user": {
      "displayName": "Pooja Sharma",
      "userId": "11264392840766783045"
     },
     "user_tz": -345
    },
    "id": "5HWMiQvtN-kW",
    "outputId": "19d32bcb-00c2-42d6-c608-ab8081663a1e"
   },
   "outputs": [
    {
     "name": "stdout",
     "output_type": "stream",
     "text": [
      "Medium case\n"
     ]
    }
   ],
   "source": [
    "# if/elif statements in Python can be likened to a C-style switch block,\n",
    "# where different cases are checked, and corresponding actions are taken based on which case is true.\n",
    "\n",
    "x = 42\n",
    "\n",
    "if x > 60:\n",
    "  print(\"Largest case\")\n",
    "elif x > 40:\n",
    "  print(\"Medium case\")\n",
    "else:\n",
    "  print(\"Final case\")"
   ]
  },
  {
   "cell_type": "code",
   "execution_count": 21,
   "metadata": {
    "colab": {
     "base_uri": "https://localhost:8080/"
    },
    "executionInfo": {
     "elapsed": 431,
     "status": "ok",
     "timestamp": 1736093851238,
     "user": {
      "displayName": "Pooja Sharma",
      "userId": "11264392840766783045"
     },
     "user_tz": -345
    },
    "id": "WGgNdKmTPfxg",
    "outputId": "ec93c983-5d10-42e5-c60b-610ec2eb7dcd"
   },
   "outputs": [
    {
     "name": "stdout",
     "output_type": "stream",
     "text": [
      "Medium case\n"
     ]
    }
   ],
   "source": [
    "# In Python, if statements can be written in a more compact form,\n",
    "# especially when the action to be executed is short.\n",
    "\n",
    "x = 42\n",
    "\n",
    "if x > 60: print(\"Largest case\")\n",
    "elif x > 40: print(\"Medium case\")\n",
    "else: print(\"Final case\")"
   ]
  },
  {
   "cell_type": "markdown",
   "metadata": {
    "id": "3w3-VgD-Ucy_"
   },
   "source": [
    "**Lesson Project: FizzBuzz and a Similar Challenge**\n",
    "\n",
    "FizzBuzz is a classic programming task, often used in job interviews to assess basic programming skills. The challenge is as follows:\n",
    "\n",
    "* Print numbers from 1 to 100.\n",
    "\n",
    "* For multiples of 3, print “Fizz” instead of the number.\n",
    "\n",
    "* For multiples of 5, print “Buzz” instead of the number.\n",
    "\n",
    "* For numbers which are multiples of both 3 and 5, print “FizzBuzz”."
   ]
  },
  {
   "cell_type": "code",
   "execution_count": 22,
   "metadata": {
    "colab": {
     "base_uri": "https://localhost:8080/"
    },
    "executionInfo": {
     "elapsed": 6,
     "status": "ok",
     "timestamp": 1736095950794,
     "user": {
      "displayName": "Pooja Sharma",
      "userId": "11264392840766783045"
     },
     "user_tz": -345
    },
    "id": "eIj_VqTpQdn6",
    "outputId": "273d3e19-d9fb-4d9a-c5fa-9b8b24a6481a"
   },
   "outputs": [
    {
     "name": "stdout",
     "output_type": "stream",
     "text": [
      "1\n",
      "2\n",
      "Fizz\n",
      "4\n",
      "Buzz\n",
      "Fizz\n",
      "7\n",
      "8\n",
      "Fizz\n",
      "Buzz\n",
      "11\n",
      "Fizz\n",
      "13\n",
      "14\n",
      "FizzBuzz\n",
      "16\n",
      "17\n",
      "Fizz\n",
      "19\n",
      "Buzz\n",
      "Fizz\n",
      "22\n",
      "23\n",
      "Fizz\n",
      "Buzz\n",
      "26\n",
      "Fizz\n",
      "28\n",
      "29\n",
      "FizzBuzz\n",
      "31\n",
      "32\n",
      "Fizz\n",
      "34\n",
      "Buzz\n",
      "Fizz\n",
      "37\n",
      "38\n",
      "Fizz\n",
      "Buzz\n",
      "41\n",
      "Fizz\n",
      "43\n",
      "44\n",
      "FizzBuzz\n",
      "46\n",
      "47\n",
      "Fizz\n",
      "49\n",
      "Buzz\n",
      "Fizz\n",
      "52\n",
      "53\n",
      "Fizz\n",
      "Buzz\n",
      "56\n",
      "Fizz\n",
      "58\n",
      "59\n",
      "FizzBuzz\n",
      "61\n",
      "62\n",
      "Fizz\n",
      "64\n",
      "Buzz\n",
      "Fizz\n",
      "67\n",
      "68\n",
      "Fizz\n",
      "Buzz\n",
      "71\n",
      "Fizz\n",
      "73\n",
      "74\n",
      "FizzBuzz\n",
      "76\n",
      "77\n",
      "Fizz\n",
      "79\n",
      "Buzz\n",
      "Fizz\n",
      "82\n",
      "83\n",
      "Fizz\n",
      "Buzz\n",
      "86\n",
      "Fizz\n",
      "88\n",
      "89\n",
      "FizzBuzz\n",
      "91\n",
      "92\n",
      "Fizz\n",
      "94\n",
      "Buzz\n",
      "Fizz\n",
      "97\n",
      "98\n",
      "Fizz\n",
      "Buzz\n"
     ]
    }
   ],
   "source": [
    "for i in range(1,101):\n",
    "  if i % 3 == 0 and i % 5 == 0:\n",
    "    print(\"FizzBuzz\")\n",
    "  elif  i % 3 == 0:\n",
    "    print(\"Fizz\")\n",
    "\n",
    "  elif i % 5 == 0:\n",
    "    print(\"Buzz\")\n",
    "  else:\n",
    "    print(i)"
   ]
  },
  {
   "cell_type": "markdown",
   "metadata": {
    "id": "IYwl3cmsmAlL"
   },
   "source": [
    "**Lesson Project: Temperature Analyzer**\n",
    "\n",
    "Create a program that analyzes temperature data and categorizes each temperature entry. The challenge is as follows:\n",
    "\n",
    "* Iterate over a list of temperature readings (in Celsius).\n",
    "\n",
    "* For each temperature:\n",
    "\n",
    " * If it’s below 0, categorize it as “Freezing”.\n",
    "\n",
    " * If it’s between 0 and 15 (inclusive), categorize it as “Cold”.\n",
    "\n",
    " * If it’s between 16 and 25 (inclusive), categorize it as “Moderate”.\n",
    "\n",
    " * If it’s above 25, categorize it as “Hot”.\n",
    "\n",
    "* Print the temperature and its category."
   ]
  },
  {
   "cell_type": "code",
   "execution_count": 23,
   "metadata": {
    "colab": {
     "base_uri": "https://localhost:8080/"
    },
    "executionInfo": {
     "elapsed": 403,
     "status": "ok",
     "timestamp": 1736100604717,
     "user": {
      "displayName": "Pooja Sharma",
      "userId": "11264392840766783045"
     },
     "user_tz": -345
    },
    "id": "SIWeiyMRW-Ay",
    "outputId": "36e50712-4586-42e2-8abe-644e90dc341c"
   },
   "outputs": [
    {
     "name": "stdout",
     "output_type": "stream",
     "text": [
      "Temperature: 10°C, Category: Cold\n",
      "Temperature: 100°C, Category: Hot\n",
      "Temperature: 5°C, Category: Cold\n",
      "Temperature: -10°C, Category: Freezing\n",
      "Temperature: -100°C, Category: Freezing\n",
      "Temperature: 30°C, Category: Hot\n",
      "Temperature: 15°C, Category: Cold\n",
      "Temperature: 20°C, Category: Moderate\n",
      "Temperature: 25°C, Category: Moderate\n"
     ]
    }
   ],
   "source": [
    "temp_list=[10,100,5,-10,-100,30,15,20,25]\n",
    "for temp in temp_list:\n",
    "  if temp < 0:\n",
    "    category = \"Freezing\"\n",
    "  elif temp <= 15:\n",
    "    category = \"Cold\"\n",
    "  elif temp <= 25:\n",
    "    category = \"Moderate\"\n",
    "  else:\n",
    "    category = \"Hot\"\n",
    "  print(f\"Temperature: {temp}°C, Category: {category}\")\n",
    "\n",
    "\n",
    "\n"
   ]
  },
  {
   "cell_type": "markdown",
   "metadata": {
    "id": "7sZP9i6LqW_o"
   },
   "source": [
    "**Challenge: Daily Step Counter**\n",
    "\n",
    "Problem Statement: Write a program that interprets a list of daily step counts. For each day’s step count:\n",
    "\n",
    "* If the steps are less than 5,000, categorize as “Sedentary”.\n",
    "\n",
    "* If the steps are between 5,000 and 7,499 (inclusive), categorize as “Lightly Active”.\n",
    "\n",
    "* If the steps are between 7,500 and 9,999 (inclusive), categorize as “Moderately Active”.\n",
    "\n",
    "* If the steps are 10,000 or more, categorize as “Very Active”.\n",
    "\n",
    "* Print the day number and the corresponding activity category."
   ]
  },
  {
   "cell_type": "code",
   "execution_count": 24,
   "metadata": {
    "colab": {
     "base_uri": "https://localhost:8080/"
    },
    "executionInfo": {
     "elapsed": 439,
     "status": "ok",
     "timestamp": 1736148767733,
     "user": {
      "displayName": "Pooja Sharma",
      "userId": "11264392840766783045"
     },
     "user_tz": -345
    },
    "id": "Ke7cvw5EnPFM",
    "outputId": "811a7b88-c6c2-415d-9937-be0646326305"
   },
   "outputs": [
    {
     "name": "stdout",
     "output_type": "stream",
     "text": [
      "Day 1, Steps : 1000,  Catogory : Sedentary\n",
      "Day 2, Steps : 5000,  Catogory : Lightly Active\n",
      "Day 3, Steps : 7000,  Catogory : Lightly Active\n",
      "Day 4, Steps : 7500,  Catogory : Moderately Active\n",
      "Day 5, Steps : 9000,  Catogory : Moderately Active\n",
      "Day 6, Steps : 10000,  Catogory : Very Active\n",
      "Day 7, Steps : 6000,  Catogory : Lightly Active\n",
      "Day 8, Steps : 8500,  Catogory : Moderately Active\n"
     ]
    }
   ],
   "source": [
    "days_step=[1000,5000,7000,7500,9000,10000,6000,8500,]\n",
    "\n",
    "for day, steps in enumerate(days_step,start=1):\n",
    "  if steps < 5000:\n",
    "    category=\"Sedentary\"\n",
    "  elif steps < 7500:\n",
    "    category=\"Lightly Active\"\n",
    "  elif steps < 10000:\n",
    "    category=\"Moderately Active\"\n",
    "  else:\n",
    "    category=\"Very Active\"\n",
    "\n",
    "  print(f\"Day {day}, Steps : {steps},  Catogory : {category}\")"
   ]
  },
  {
   "cell_type": "code",
   "execution_count": null,
   "metadata": {
    "id": "2oRG_T8Thn26"
   },
   "outputs": [],
   "source": []
  }
 ],
 "metadata": {
  "colab": {
   "authorship_tag": "ABX9TyMUTX0QVhHBCqtFulrl1Aul",
   "provenance": []
  },
  "kernelspec": {
   "display_name": "Python 3 (ipykernel)",
   "language": "python",
   "name": "python3"
  },
  "language_info": {
   "codemirror_mode": {
    "name": "ipython",
    "version": 3
   },
   "file_extension": ".py",
   "mimetype": "text/x-python",
   "name": "python",
   "nbconvert_exporter": "python",
   "pygments_lexer": "ipython3",
   "version": "3.12.4"
  }
 },
 "nbformat": 4,
 "nbformat_minor": 4
}
