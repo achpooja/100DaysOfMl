{
 "cells": [
  {
   "cell_type": "markdown",
   "metadata": {
    "id": "dVfTwk47ilNy"
   },
   "source": [
    "Functions are useful in two distinct scenarios:\n",
    "* To repeat behavior without repeating an entire procedure,\n",
    "* or to vary behavior based on the situation at hand.\n",
    "\n",
    "In programming, a function is a block of organized, reusable code used to perform a single, related action. They provide better modularity for your application and a high degree of code reusing.\n",
    "\n",
    "**Parameter and Arguments:**\n",
    "* Understanding Local Variables:\n",
    "* Positional vs. Keyword Arguments:\n",
    "* Default Parameter Values:\n",
    "* Using Keywords to Reorder Arguments:\n",
    "* Local vs. Global Variables:\n",
    "\n",
    "**Return Values:**\n",
    "* How to Return Data from a Function: To send back a result from a function to its caller, use the return statement.\n",
    "\n",
    "* Multiple Return Values; Tuple Value Unpacking: Functions in Python can return multiple values, usually in the form of a tuple, which can be unpacked into multiple variables.\n",
    "\n",
    "* None: The Default Return Value: If no return statement is used, or the return statement does not have an accompanying value, the function returns None."
   ]
  },
  {
   "cell_type": "code",
   "execution_count": 1,
   "metadata": {
    "id": "ncerFTvCrwqC"
   },
   "outputs": [],
   "source": [
    "x = 42 # global scope variable\n",
    "\n",
    "def g():\n",
    "  x = 50 # shadowing; don't do this. You didn't change global 'x'.\n",
    "\n",
    "def h():\n",
    "  global x\n",
    "  x += 1 # modifies global variable 'x'\n",
    "\n",
    "stuff = []\n",
    "\n",
    "def i():\n",
    "  stuff.append(\"thing\") # allowed. 'stuff' will be found in the global scope that encloses this function."
   ]
  },
  {
   "cell_type": "code",
   "execution_count": 2,
   "metadata": {
    "id": "MrSmIvQdr0qR"
   },
   "outputs": [],
   "source": [
    "g()\n",
    "h()\n",
    "i()"
   ]
  },
  {
   "cell_type": "code",
   "execution_count": 3,
   "metadata": {
    "colab": {
     "base_uri": "https://localhost:8080/"
    },
    "executionInfo": {
     "elapsed": 14,
     "status": "ok",
     "timestamp": 1736494350595,
     "user": {
      "displayName": "Pooja Sharma",
      "userId": "11264392840766783045"
     },
     "user_tz": -345
    },
    "id": "RW27ztVFiakN",
    "outputId": "e10994e2-a8e7-4ac1-cb49-b4648a5ec915"
   },
   "outputs": [
    {
     "name": "stdout",
     "output_type": "stream",
     "text": [
      "Hello world!\n"
     ]
    }
   ],
   "source": [
    "# Basic Structure of a Function\n",
    "# definition\n",
    "def some_function():\n",
    "    print(\"Hello world!\")\n",
    "    # return 2*2\n",
    "some_function()  # function call"
   ]
  },
  {
   "cell_type": "markdown",
   "metadata": {
    "id": "7wDvUtZftvgf"
   },
   "source": [
    "**Get New Functionality Fast Via Modules**\n",
    "\n",
    "Modules are a way to bring complex capabilities into your Python programs with the use of the import keyword.\n",
    "\n",
    "The Python standard library is sometimes described as “batteries included”, which includes functionality like: interacting with JSON data or CSV files, making web requests, mathematical functions, random numbers, interacting with dates and times, file compression, logging, cryptography, and the list goes on!\n",
    "\n"
   ]
  },
  {
   "cell_type": "code",
   "execution_count": 4,
   "metadata": {
    "colab": {
     "base_uri": "https://localhost:8080/"
    },
    "executionInfo": {
     "elapsed": 7,
     "status": "ok",
     "timestamp": 1736494350595,
     "user": {
      "displayName": "Pooja Sharma",
      "userId": "11264392840766783045"
     },
     "user_tz": -345
    },
    "id": "4_nNwbU8jd3S",
    "outputId": "2cae0f7a-9265-4586-ba42-06875818cb75"
   },
   "outputs": [
    {
     "data": {
      "text/plain": [
       "<function math.pow(x, y, /)>"
      ]
     },
     "execution_count": 4,
     "metadata": {},
     "output_type": "execute_result"
    }
   ],
   "source": [
    "# import Syntax\n",
    "import math\n",
    "\n",
    "# After importing, the module is an object that you can interact with:\n",
    "math\n",
    "\n",
    "type(math)\n",
    "\n",
    "# In fact, if you save any Python code in a .py file in the same directory as your notebook or additional files, you can import them as modules and access their contents.\n",
    "# Just like using a function on any other object, you can use the dot operator (.) to access the contents of a module.\n",
    "# Modules can contain any Python object.\n",
    "math.pow"
   ]
  },
  {
   "cell_type": "code",
   "execution_count": 5,
   "metadata": {
    "id": "yearsoaDu09a"
   },
   "outputs": [],
   "source": [
    "\n",
    "import matplotlib.pyplot as plt\n",
    "# The module matplotlib contains a module pyplot, and typing matplotlib.pyplot dozens of times in your code would be exhausting.\n",
    "#  When importing as, the given name plt becomes an alias for the module.\n",
    "\n",
    "# You can import specific parts of a module, leaving the rest behind:\n",
    "from math import pi\n",
    "\n",
    "# Use this sparingly, but it’s possible to import all of the contents of a module without using a dot operator.\n",
    "from math import *"
   ]
  },
  {
   "cell_type": "markdown",
   "metadata": {
    "id": "CdCq04g8w2Qz"
   },
   "source": [
    "**Standard Library Highlights**\n",
    "\n",
    "Persue the [Python Standard Library documentation.](https://docs.python.org/3/library/index.html) for more.\n"
   ]
  },
  {
   "cell_type": "code",
   "execution_count": 6,
   "metadata": {
    "colab": {
     "base_uri": "https://localhost:8080/"
    },
    "executionInfo": {
     "elapsed": 13,
     "status": "ok",
     "timestamp": 1736494351189,
     "user": {
      "displayName": "Pooja Sharma",
      "userId": "11264392840766783045"
     },
     "user_tz": -345
    },
    "id": "B9l6RDQTxLWE",
    "outputId": "d404b924-c0b4-4ee5-ded5-5512914ceb14"
   },
   "outputs": [
    {
     "data": {
      "text/plain": [
       "0.8026320161474598"
      ]
     },
     "execution_count": 6,
     "metadata": {},
     "output_type": "execute_result"
    }
   ],
   "source": [
    "# random module\n",
    "import random\n",
    "random.randint(1,6) # for dice roll\n",
    "random.random() # float between 0.0 and 1.0\n"
   ]
  },
  {
   "cell_type": "code",
   "execution_count": 7,
   "metadata": {
    "colab": {
     "base_uri": "https://localhost:8080/"
    },
    "executionInfo": {
     "elapsed": 12,
     "status": "ok",
     "timestamp": 1736494351189,
     "user": {
      "displayName": "Pooja Sharma",
      "userId": "11264392840766783045"
     },
     "user_tz": -345
    },
    "id": "KzHo4c58_6E9",
    "outputId": "103b261c-af04-454f-aa86-20d49613425d"
   },
   "outputs": [
    {
     "data": {
      "text/plain": [
       "{'a': 1, 'b': 2}"
      ]
     },
     "execution_count": 7,
     "metadata": {},
     "output_type": "execute_result"
    }
   ],
   "source": [
    "# json module: important for sending and retrieving data over web services or saving to file\n",
    "import json\n",
    "\n",
    "data = {'a':1,'b':2}\n",
    "txt = json.dumps(data) # dump to string  dictionary to json format\n",
    "json.loads(txt) # load from string     json to dictionary format"
   ]
  },
  {
   "cell_type": "code",
   "execution_count": 8,
   "metadata": {
    "colab": {
     "base_uri": "https://localhost:8080/"
    },
    "executionInfo": {
     "elapsed": 7750,
     "status": "ok",
     "timestamp": 1736494358930,
     "user": {
      "displayName": "Pooja Sharma",
      "userId": "11264392840766783045"
     },
     "user_tz": -345
    },
    "id": "cE8b_xdoA-VE",
    "outputId": "70c7cecc-b9e6-4a0b-d1c7-e4a7e44e1502"
   },
   "outputs": [
    {
     "name": "stdout",
     "output_type": "stream",
     "text": [
      ".\n",
      ".\n",
      ".\n",
      ".\n",
      ".\n",
      "\n",
      "Elapsed: 7.51 seconds\n"
     ]
    }
   ],
   "source": [
    "# time module: for measuring elapsed time or deliberately slowing down your program.\n",
    "import time\n",
    "start=time.time()  # in Python returns the current time in seconds\n",
    "for i in range(5):\n",
    "  print('.')\n",
    "  time.sleep(1.5)\n",
    "print()\n",
    "end=time.time()\n",
    "print(f\"Elapsed: {end - start:.2f} seconds\")"
   ]
  },
  {
   "cell_type": "code",
   "execution_count": 9,
   "metadata": {
    "colab": {
     "base_uri": "https://localhost:8080/"
    },
    "executionInfo": {
     "elapsed": 20,
     "status": "ok",
     "timestamp": 1736494358931,
     "user": {
      "displayName": "Pooja Sharma",
      "userId": "11264392840766783045"
     },
     "user_tz": -345
    },
    "id": "Vmyah2myCImC",
    "outputId": "95423975-cf05-4bf2-f412-a1f90e0ccb07"
   },
   "outputs": [
    {
     "name": "stdout",
     "output_type": "stream",
     "text": [
      "2025-03-13 16:24:10.456629\n"
     ]
    }
   ],
   "source": [
    "# the datetime module: for interacting with calendars, timestamps, timezones, and durations.\n",
    "from datetime import datetime\n",
    "print(datetime.now())"
   ]
  },
  {
   "cell_type": "markdown",
   "metadata": {
    "id": "C4AyHBv9RUZm"
   },
   "source": [
    "**Every AI/ML Developer Must Know Numpy**\n",
    "\n",
    "Let’s introduce NumPy by demonstrating the matrix multiplication required in a linear regression calculation. We’ll compute the loss, which is a measure of how far our model’s predictions are from the actual outcomes.\n",
    "\n",
    "Here’s the step-by-step process:\n"
   ]
  },
  {
   "cell_type": "code",
   "execution_count": 10,
   "metadata": {
    "id": "0rTMxpxDG7o0"
   },
   "outputs": [],
   "source": [
    "# 1. Import NumPy Library\n",
    "import numpy as np"
   ]
  },
  {
   "cell_type": "code",
   "execution_count": 11,
   "metadata": {
    "id": "7zcaHcp3SSS8"
   },
   "outputs": [],
   "source": [
    "# 2. Define Coefficients and Data\n",
    "# Suppose we have a linear model with Coefficients a and b\n",
    "#  (for a simple linear equation y= ax+b). We'll represent these as a NumPy array:\n",
    "\n",
    "a , b = 2 , 1\n",
    "coeffiecients=np.array([a,b])\n",
    "\n",
    "# Let’s also define our data points.\n",
    "#  In a simple linear regression, we often have input (x) and output (y) pairs.\n",
    "# For this example, x and y are both arrays.\n",
    "#  Our x data needs an additional column of ones to account for the intercept b:\n",
    "\n",
    "x_data=np.array([[1,1],[2,1],[3,1]])\n",
    "y_data=np.array([3,5,7])\n"
   ]
  },
  {
   "cell_type": "code",
   "execution_count": 12,
   "metadata": {
    "id": "c65ysRAATKu_"
   },
   "outputs": [],
   "source": [
    "# 3. Perform Matrix Multiplication for Prediction\n",
    "# We compute the predicted y values (y_pred)\n",
    "# using matrix multiplication between our data (x_data) and coefficients.\n",
    "# In NumPy, matrix multiplication is done using the @ operator or np.dot() function:\n",
    "\n",
    "y_pred = x_data @ coeffiecients"
   ]
  },
  {
   "cell_type": "code",
   "execution_count": 13,
   "metadata": {
    "id": "k7Rhcab1WkoU"
   },
   "outputs": [],
   "source": [
    "# 4. Compute the Loss\n",
    "# The loss function quantifies how far our predictions are from the actual values.\n",
    "# A common loss function in linear regression is Mean Squared Error (MSE),\n",
    "# calculated as the average of the squares of the differences between actual (y_data) and predicted (y_pred) values\n",
    "\n",
    "loss = np.mean((y_data - y_pred) ** 2)"
   ]
  },
  {
   "cell_type": "code",
   "execution_count": 14,
   "metadata": {
    "colab": {
     "base_uri": "https://localhost:8080/"
    },
    "executionInfo": {
     "elapsed": 15,
     "status": "ok",
     "timestamp": 1736494358931,
     "user": {
      "displayName": "Pooja Sharma",
      "userId": "11264392840766783045"
     },
     "user_tz": -345
    },
    "id": "jmuSiU8jYLyI",
    "outputId": "708d2bdd-bfcd-4388-87a5-35146ec747b7"
   },
   "outputs": [
    {
     "name": "stdout",
     "output_type": "stream",
     "text": [
      "Predicted y: [3 5 7]\n",
      "Loss (MSE): 0.0\n"
     ]
    }
   ],
   "source": [
    "print(\"Predicted y:\", y_pred)\n",
    "print(\"Loss (MSE):\", loss)"
   ]
  },
  {
   "cell_type": "markdown",
   "metadata": {
    "id": "soKc9Cm9Y5Kr"
   },
   "source": [
    "**Week 1 mini-project**\n",
    "\n",
    "**Number Guessing Game :**\n",
    "\n",
    "**Program Specification:** The Number Guessing Game selects a random number within a specified range(eg. 1 to 100). The user is prompted to guess this number. After each guess, the program provides feedback: either the user guessed correctly, or their guess was too high or too low. The user continues to guess until they find the correct number. The program should keep track of the number attempts made by the user and display this number once they have successfully guessed the correct number. Inputs include the user's guesses, and outputs are the feedback messages and the total number of attempts once the game is successfully completed. Give the user a meaningfult score based on their performance.\n",
    "\n",
    "\n"
   ]
  },
  {
   "cell_type": "code",
   "execution_count": null,
   "metadata": {},
   "outputs": [],
   "source": []
  },
  {
   "cell_type": "code",
   "execution_count": 15,
   "metadata": {
    "colab": {
     "base_uri": "https://localhost:8080/"
    },
    "executionInfo": {
     "elapsed": 70901,
     "status": "ok",
     "timestamp": 1736494429825,
     "user": {
      "displayName": "Pooja Sharma",
      "userId": "11264392840766783045"
     },
     "user_tz": -345
    },
    "id": "EN5WSEVrYgxL",
    "outputId": "1a6bbab3-a1d6-4b34-9401-91d0fd627dac"
   },
   "outputs": [
    {
     "name": "stdout",
     "output_type": "stream",
     "text": [
      "To get the 100 % score you have to guess the number in 8 chances.\n"
     ]
    },
    {
     "name": "stdin",
     "output_type": "stream",
     "text": [
      "Enter your guess:  10\n"
     ]
    },
    {
     "name": "stdout",
     "output_type": "stream",
     "text": [
      "Low Number.Try Again.\n"
     ]
    },
    {
     "name": "stdin",
     "output_type": "stream",
     "text": [
      "Enter your guess:  20\n"
     ]
    },
    {
     "name": "stdout",
     "output_type": "stream",
     "text": [
      "Low Number.Try Again.\n"
     ]
    },
    {
     "name": "stdin",
     "output_type": "stream",
     "text": [
      "Enter your guess:  40\n"
     ]
    },
    {
     "name": "stdout",
     "output_type": "stream",
     "text": [
      "Low Number.Try Again.\n"
     ]
    },
    {
     "name": "stdin",
     "output_type": "stream",
     "text": [
      "Enter your guess:  50\n"
     ]
    },
    {
     "name": "stdout",
     "output_type": "stream",
     "text": [
      "Low Number.Try Again.\n"
     ]
    },
    {
     "name": "stdin",
     "output_type": "stream",
     "text": [
      "Enter your guess:  60\n"
     ]
    },
    {
     "name": "stdout",
     "output_type": "stream",
     "text": [
      "Low Number.Try Again.\n"
     ]
    },
    {
     "name": "stdin",
     "output_type": "stream",
     "text": [
      "Enter your guess:  90\n"
     ]
    },
    {
     "name": "stdout",
     "output_type": "stream",
     "text": [
      "Low Number.Try Again.\n"
     ]
    },
    {
     "name": "stdin",
     "output_type": "stream",
     "text": [
      "Enter your guess:  99\n"
     ]
    },
    {
     "name": "stdout",
     "output_type": "stream",
     "text": [
      "Low Number.Try Again.\n"
     ]
    },
    {
     "name": "stdin",
     "output_type": "stream",
     "text": [
      "Enter your guess:  100\n"
     ]
    },
    {
     "name": "stdout",
     "output_type": "stream",
     "text": [
      "Low Number.Try Again.\n"
     ]
    },
    {
     "name": "stdin",
     "output_type": "stream",
     "text": [
      "Enter your guess:  55\n"
     ]
    },
    {
     "name": "stdout",
     "output_type": "stream",
     "text": [
      "Low Number.Try Again.\n"
     ]
    },
    {
     "name": "stdin",
     "output_type": "stream",
     "text": [
      "Enter your guess:  54\n"
     ]
    },
    {
     "name": "stdout",
     "output_type": "stream",
     "text": [
      "Low Number.Try Again.\n"
     ]
    },
    {
     "name": "stdin",
     "output_type": "stream",
     "text": [
      "Enter your guess:  70\n"
     ]
    },
    {
     "name": "stdout",
     "output_type": "stream",
     "text": [
      "Low Number.Try Again.\n"
     ]
    },
    {
     "name": "stdin",
     "output_type": "stream",
     "text": [
      "Enter your guess:  250\n"
     ]
    },
    {
     "name": "stdout",
     "output_type": "stream",
     "text": [
      "High Number.Try Again.\n"
     ]
    },
    {
     "name": "stdin",
     "output_type": "stream",
     "text": [
      "Enter your guess:  200\n"
     ]
    },
    {
     "name": "stdout",
     "output_type": "stream",
     "text": [
      "High Number.Try Again.\n"
     ]
    },
    {
     "name": "stdin",
     "output_type": "stream",
     "text": [
      "Enter your guess:  150\n"
     ]
    },
    {
     "name": "stdout",
     "output_type": "stream",
     "text": [
      "Low Number.Try Again.\n"
     ]
    },
    {
     "name": "stdin",
     "output_type": "stream",
     "text": [
      "Enter your guess:  180\n"
     ]
    },
    {
     "name": "stdout",
     "output_type": "stream",
     "text": [
      "High Number.Try Again.\n"
     ]
    },
    {
     "name": "stdin",
     "output_type": "stream",
     "text": [
      "Enter your guess:  160\n"
     ]
    },
    {
     "name": "stdout",
     "output_type": "stream",
     "text": [
      "High Number.Try Again.\n"
     ]
    },
    {
     "name": "stdin",
     "output_type": "stream",
     "text": [
      "Enter your guess:  155\n"
     ]
    },
    {
     "name": "stdout",
     "output_type": "stream",
     "text": [
      "High Number.Try Again.\n"
     ]
    },
    {
     "name": "stdin",
     "output_type": "stream",
     "text": [
      "Enter your guess:  154\n"
     ]
    },
    {
     "name": "stdout",
     "output_type": "stream",
     "text": [
      "High Number.Try Again.\n"
     ]
    },
    {
     "name": "stdin",
     "output_type": "stream",
     "text": [
      "Enter your guess:  152\n"
     ]
    },
    {
     "name": "stdout",
     "output_type": "stream",
     "text": [
      "Low Number.Try Again.\n"
     ]
    },
    {
     "name": "stdin",
     "output_type": "stream",
     "text": [
      "Enter your guess:  153\n"
     ]
    },
    {
     "name": "stdout",
     "output_type": "stream",
     "text": [
      "Congratulation! You guessed the correct number in 20 attempts. Your score is 96\n"
     ]
    }
   ],
   "source": [
    "import random\n",
    "import math\n",
    "\n",
    "\n",
    "# Function to get the valid integer guesses from the user\n",
    "def u_guess():\n",
    "  while True:\n",
    "    try:\n",
    "      user_input=int(input(\"Enter your guess: \"))\n",
    "      return user_input\n",
    "    except ValueError:\n",
    "      print(\"Invalid input. Please enter a valid integer.\")\n",
    "\n",
    "\n",
    "# Functio for calculate the score based on attempts and range size using binary search worst case scenario\n",
    "def calculate_score(attempts,range_size):\n",
    "  # calculate the binary search worstcase\n",
    "  worst_case_binary_search = round(math.log2(range_size))\n",
    "  if attempts < worst_case_binary_search:\n",
    "    # For attempts fewer than the worst case user get the 100%\n",
    "    return 100\n",
    "  elif attempts > range_size:\n",
    "    # For attempts eqaul to range size user get the 0%\n",
    "    return 0\n",
    "  else:\n",
    "      # Linear interpolation between the two extremes\n",
    "    return round((1-(attempts - worst_case_binary_search) / (range_size - worst_case_binary_search )) * 100)\n",
    "\n",
    "\n",
    "def guess_numb(min_val=0,max_val=100):\n",
    "# Number guessing game with configurable range and scoring system\n",
    "  num_to_guess = random.randint(min_val,max_val)\n",
    "  attempts=0\n",
    "  range_size= max_val - min_val + 1\n",
    "  worst_case_binary_search = round(math.log2(range_size))\n",
    "  print(f\"To get the 100 % score you have to guess the number in {worst_case_binary_search} chances.\")\n",
    "  while True:\n",
    "    user_guess = u_guess()\n",
    "    attempts += 1\n",
    "    if user_guess == num_to_guess:\n",
    "      score = calculate_score(attempts,range_size)\n",
    "      print(f\"Congratulation! You guessed the correct number in {attempts} attempts. Your score is {score}\")\n",
    "      break\n",
    "    elif user_guess < num_to_guess:\n",
    "      print(\"Low Number.Try Again.\")\n",
    "    else:\n",
    "      print(\"High Number.Try Again.\")\n",
    "\n",
    "guess_numb(0,300)\n",
    "\n"
   ]
  },
  {
   "cell_type": "markdown",
   "metadata": {
    "id": "_6y9qJtytrrd"
   },
   "source": [
    "**Basic Quiz Game**\n",
    "\n",
    "**Program Specification:** The Basic Quiz Game presents a series of questions to the user, each with multiple choice answers. The user selects their answer for each question, and the program records this selection. After all questions have been answered, the program calculates the total number of correct answers and displays the user’s score. Inputs are the user’s answers to each question, and the output is the user’s total score. The program can optionally display correct answers for the questions the user got wrong.\n"
   ]
  },
  {
   "cell_type": "code",
   "execution_count": 16,
   "metadata": {
    "id": "pAzIB2jxIB_C"
   },
   "outputs": [],
   "source": [
    "import json\n",
    "\n",
    "# Create a sample quiz and save it to a JSON file.\n",
    "def example_quiz(filename):\n",
    "  sample_ques=[\n",
    "      {\n",
    "        \"question\": \"What is the capital of France?\",\n",
    "        \"answer\": \"Paris\",\n",
    "        \"wrong_answers\": [\"Rome\", \"London\"]\n",
    "      },\n",
    "      {\n",
    "       \"question\": \"What is the largest planet in our solar system?\",\n",
    "       \"answer\": \"Jupiter\",\n",
    "      \"wrong_answers\": [\"Mars\", \"Earth\"]\n",
    "      },\n",
    "      {\n",
    "        \"question\": \"Who wrote 'Romeo and Juliet'?\",\n",
    "        \"answer\": \"William Shakespeare\",\n",
    "        \"wrong_answers\": [\"Charles Dickens\", \"Jane Austen\"]\n",
    "      },\n",
    "      {\n",
    "        \"question\": \"What is the chemical symbol for water?\",\n",
    "        \"answer\": \"H2O\",\n",
    "        \"wrong_answers\": [\"O2\", \"CO2\"]\n",
    "      },\n",
    "      {\n",
    "         \"question\": \"Which element has the atomic number 1?\",\n",
    "         \"answer\": \"Hydrogen\",\n",
    "         \"wrong_answers\": [\"Helium\", \"Oxygen\"]\n",
    "      },\n",
    "      {\n",
    "          \"question\": \"What is the capital of Japan?\",\n",
    "          \"answer\": \"Tokyo\",\n",
    "          \"wrong_answers\": [\"Kyoto\", \"Osaka\"]\n",
    "      },\n",
    "      {\n",
    "          \"question\": \"What is the smallest prime number?\",\n",
    "          \"answer\": \"2\",\n",
    "          \"wrong_answers\": [\"1\", \"3\"]\n",
    "      },\n",
    "      {\n",
    "          \"question\": \"Who painted the Mona Lisa?\",\n",
    "          \"answer\": \"Leonardo da Vinci\",\n",
    "          \"wrong_answers\": [\"Vincent van Gogh\", \"Pablo Picasso\"]\n",
    "      },\n",
    "      {\n",
    "         \"question\": \"What is the capital of Australia?\",\n",
    "         \"answer\": \"Canberra\",\n",
    "         \"wrong_answers\": [\"Sydney\", \"Melbourne\"]\n",
    "      },\n",
    "      {\n",
    "         \"question\": \"What is the hardest natural substance on Earth?\",\n",
    "         \"answer\": \"Diamond\",\n",
    "         \"wrong_answers\": [\"Gold\", \"Iron\"]\n",
    "      }\n",
    "\n",
    "\n",
    "\n",
    "  ]\n",
    "\n",
    "  with open(filename,'w') as file:\n",
    "    json.dump(sample_ques,file,indent=4)"
   ]
  },
  {
   "cell_type": "code",
   "execution_count": 17,
   "metadata": {
    "id": "d16cFO9dzjRb"
   },
   "outputs": [],
   "source": [
    "example_quiz(\"quiz_ques_coll.json\")"
   ]
  },
  {
   "cell_type": "code",
   "execution_count": 18,
   "metadata": {
    "id": "a6rgxAw-z_yi"
   },
   "outputs": [],
   "source": [
    "# filename=\"quiz_ques_coll.json\"\n",
    "\n",
    "# Load quiz questions from a JSON file.\n",
    "def load_quiz(filename):\n",
    "  with open(filename,\"r\") as file:\n",
    "    data=json.load(file)\n",
    "     # Check each question for at least two wrong answers\n",
    "    for question in data:\n",
    "      if len(question[\"wrong_answers\"]) < 2:\n",
    "        raise ValueError(\"Each question must have at least two wrong answers.\")\n",
    "    return data\n",
    "\n",
    "\n",
    "\n"
   ]
  },
  {
   "cell_type": "code",
   "execution_count": 19,
   "metadata": {
    "id": "XfL5wpLR1JEP"
   },
   "outputs": [],
   "source": [
    "import random\n",
    "import time\n",
    "\n",
    "def sample_quiz(filename):\n",
    "  questions=load_quiz(filename)\n",
    "  total_score=0\n",
    "\n",
    "  for question in questions:\n",
    "    attempts=0\n",
    "    print(question[\"question\"])\n",
    "    all_answers= [question[\"answer\"]] + question[\"wrong_answers\"]\n",
    "    random.shuffle(all_answers)\n",
    "\n",
    "    for i , answer in enumerate(all_answers):\n",
    "      print(f\"{chr(97+i)}.{answer}\")\n",
    "\n",
    "    while attempts < 2:\n",
    "      start_time = time.time()\n",
    "      user_answer= input(\"Your answer: \").strip().lower()\n",
    "      end_time = time.time()\n",
    "      time_taken = end_time - start_time\n",
    "\n",
    "\n",
    "\n",
    "      correct_answer_index =  chr(97 + all_answers.index(question[\"answer\"]))\n",
    "\n",
    "      if user_answer == correct_answer_index:\n",
    "        if attempts == 1:\n",
    "          total_score += 0.5\n",
    "        elif time_taken < 5:\n",
    "          total_score += 3\n",
    "        elif time_taken < 10:\n",
    "          total_score +=2\n",
    "        else:\n",
    "          total_score +=1\n",
    "        print(f\"Correct ! {time_taken:.1f} seconds to answer.\")\n",
    "        break\n",
    "      else:\n",
    "        if attempts > 0:\n",
    "          print(\"Wrong! The correct answer was \",question[\"answer\"])\n",
    "          break\n",
    "        else:\n",
    "          print(\"Wrong! Try again?\")\n",
    "          attempts +=1\n",
    "\n",
    "  print(f\"Your total score is {total_score}.\")\n",
    "\n",
    "\n",
    "\n"
   ]
  },
  {
   "cell_type": "code",
   "execution_count": 20,
   "metadata": {
    "colab": {
     "base_uri": "https://localhost:8080/",
     "height": 1000
    },
    "executionInfo": {
     "elapsed": 112496,
     "status": "error",
     "timestamp": 1736505438649,
     "user": {
      "displayName": "Pooja Sharma",
      "userId": "11264392840766783045"
     },
     "user_tz": -345
    },
    "id": "v8nqlKnudzpm",
    "outputId": "565f4ecb-eba0-4aec-a15b-78827297db60"
   },
   "outputs": [
    {
     "name": "stdout",
     "output_type": "stream",
     "text": [
      "What is the capital of France?\n",
      "a.Paris\n",
      "b.Rome\n",
      "c.London\n"
     ]
    },
    {
     "name": "stdin",
     "output_type": "stream",
     "text": [
      "Your answer:  a\n"
     ]
    },
    {
     "name": "stdout",
     "output_type": "stream",
     "text": [
      "Correct ! 51.2 seconds to answer.\n",
      "What is the largest planet in our solar system?\n",
      "a.Jupiter\n",
      "b.Earth\n",
      "c.Mars\n"
     ]
    },
    {
     "name": "stdin",
     "output_type": "stream",
     "text": [
      "Your answer:  a\n"
     ]
    },
    {
     "name": "stdout",
     "output_type": "stream",
     "text": [
      "Correct ! 6.9 seconds to answer.\n",
      "Who wrote 'Romeo and Juliet'?\n",
      "a.William Shakespeare\n",
      "b.Charles Dickens\n",
      "c.Jane Austen\n"
     ]
    },
    {
     "name": "stdin",
     "output_type": "stream",
     "text": [
      "Your answer:  b\n"
     ]
    },
    {
     "name": "stdout",
     "output_type": "stream",
     "text": [
      "Wrong! Try again?\n"
     ]
    },
    {
     "name": "stdin",
     "output_type": "stream",
     "text": [
      "Your answer:  a\n"
     ]
    },
    {
     "name": "stdout",
     "output_type": "stream",
     "text": [
      "Correct ! 4.5 seconds to answer.\n",
      "What is the chemical symbol for water?\n",
      "a.H2O\n",
      "b.CO2\n",
      "c.O2\n"
     ]
    },
    {
     "name": "stdin",
     "output_type": "stream",
     "text": [
      "Your answer:  a\n"
     ]
    },
    {
     "name": "stdout",
     "output_type": "stream",
     "text": [
      "Correct ! 4.3 seconds to answer.\n",
      "Which element has the atomic number 1?\n",
      "a.Oxygen\n",
      "b.Hydrogen\n",
      "c.Helium\n"
     ]
    },
    {
     "name": "stdin",
     "output_type": "stream",
     "text": [
      "Your answer:  b\n"
     ]
    },
    {
     "name": "stdout",
     "output_type": "stream",
     "text": [
      "Correct ! 7.7 seconds to answer.\n",
      "What is the capital of Japan?\n",
      "a.Osaka\n",
      "b.Kyoto\n",
      "c.Tokyo\n"
     ]
    },
    {
     "name": "stdin",
     "output_type": "stream",
     "text": [
      "Your answer:  c\n"
     ]
    },
    {
     "name": "stdout",
     "output_type": "stream",
     "text": [
      "Correct ! 5.9 seconds to answer.\n",
      "What is the smallest prime number?\n",
      "a.1\n",
      "b.3\n",
      "c.2\n"
     ]
    },
    {
     "name": "stdin",
     "output_type": "stream",
     "text": [
      "Your answer:  c\n"
     ]
    },
    {
     "name": "stdout",
     "output_type": "stream",
     "text": [
      "Correct ! 5.7 seconds to answer.\n",
      "Who painted the Mona Lisa?\n",
      "a.Pablo Picasso\n",
      "b.Leonardo da Vinci\n",
      "c.Vincent van Gogh\n"
     ]
    },
    {
     "name": "stdin",
     "output_type": "stream",
     "text": [
      "Your answer:  b\n"
     ]
    },
    {
     "name": "stdout",
     "output_type": "stream",
     "text": [
      "Correct ! 4.9 seconds to answer.\n",
      "What is the capital of Australia?\n",
      "a.Canberra\n",
      "b.Melbourne\n",
      "c.Sydney\n"
     ]
    },
    {
     "name": "stdin",
     "output_type": "stream",
     "text": [
      "Your answer:  b\n"
     ]
    },
    {
     "name": "stdout",
     "output_type": "stream",
     "text": [
      "Wrong! Try again?\n"
     ]
    },
    {
     "name": "stdin",
     "output_type": "stream",
     "text": [
      "Your answer:  a\n"
     ]
    },
    {
     "name": "stdout",
     "output_type": "stream",
     "text": [
      "Correct ! 3.9 seconds to answer.\n",
      "What is the hardest natural substance on Earth?\n",
      "a.Diamond\n",
      "b.Iron\n",
      "c.Gold\n"
     ]
    },
    {
     "name": "stdin",
     "output_type": "stream",
     "text": [
      "Your answer:  a\n"
     ]
    },
    {
     "name": "stdout",
     "output_type": "stream",
     "text": [
      "Correct ! 10.3 seconds to answer.\n",
      "Your total score is 17.0.\n"
     ]
    }
   ],
   "source": [
    "sample_quiz(\"quiz_ques_coll.json\")"
   ]
  },
  {
   "cell_type": "markdown",
   "metadata": {
    "id": "EXRXLRolY0lM"
   },
   "source": [
    "**Weekly Project 1 : Simple Contact Book Application**\n",
    "\n",
    "**Program Specification:** The Simple Contact Book Application allows users to store, retrieve, edit and delete contact information including names, phone numbers, and email addresses. The user interface should enable adding new contacts, displaying all contacts, searching for specific contact, editing existing contacts, and deleting contacts. Inputs include user commands for different actions (add,view,search,edit,delete) and the relevant contact details for each action. Outputs are the display of contact information or confirmation messages of successful operations. The program should handle invalid inputs gracefully and provide user-friendly error messages."
   ]
  },
  {
   "cell_type": "code",
   "execution_count": 21,
   "metadata": {
    "id": "vW3jaGPrY0PX"
   },
   "outputs": [],
   "source": [
    "import json\n",
    "\n",
    "# Initialize the contact info list to store the contact information\n",
    "contact_info = []\n",
    "\n",
    "# Function to display the menu\n",
    "def display_name():\n",
    "  print(\"\\nContact Book Menu:\")\n",
    "  print(\"1. Add a new contact\")\n",
    "  print(\"2. View all contacts\")\n",
    "  print(\"3. Search for a contact\")\n",
    "  print(\"4. Edit a contact\")\n",
    "  print(\"5. Delete a contact\")\n",
    "  print(\"6. Exit\\n\")\n",
    "\n",
    "# Function to add a new contact\n",
    "def add_contact():\n",
    "  name=input(\"Enter name: \").strip()\n",
    "  phone=input(\"Enter phone number: \").strip()\n",
    "  email=input(\"Enter email address: \").strip()\n",
    "  contact={\"name\":name,\"phone\":phone,\"email\":email}\n",
    "  contact_info.append(contact)\n",
    "  print(\"Contact added successfully!\")\n",
    "\n",
    "# Function to view the all contacts\n",
    "def view_contact():\n",
    "  if not contact_info:\n",
    "    print(\"No contacts found.\")\n",
    "  else:\n",
    "    for contact in contact_info:\n",
    "      print(f\"Name:{contact['name']}\")\n",
    "      print(f\"Phone Number:{contact['phone']}\")\n",
    "      print((f\"Email Address:{contact['email']}\"))\n",
    "\n",
    "# Function to search search for a contact\n",
    "def search_contact():\n",
    "  name=input(\"Enter the name to search: \").strip()\n",
    "  # found_contact = [for contact in contact_info if contact[\"name\"] == name.lower() ]\n",
    "  found_contacts = []\n",
    "  for contact in contact_info:\n",
    "    if contact[\"name\"].lower == name.lower():\n",
    "      found_contacts.append(contact)\n",
    "\n",
    "  if not found_contacts:\n",
    "    print(\"Contact not found.\")\n",
    "  else:\n",
    "    print(f\"Name:{contact['name']}\")\n",
    "    print(f\"Phone Number:{contact['phone']}\")\n",
    "    print((f\"Email Address:{contact['email']}\"))\n",
    "\n",
    "# Function to edit the contact\n",
    "def edit_contact():\n",
    "  name=input(\"Enter the name of the contact to edit: \").strip()\n",
    "  for contact in contact_info():\n",
    "    if contact[\"name\"].lower() == name.lower():\n",
    "        # new_name=input(\"Enter name: \").strip()\n",
    "        new_phone=input(\"Enter the new phone number: \").strip()\n",
    "        new_email=input(\"Enter the new email address: \").strip()\n",
    "        contact[\"phone\"] = new_phone\n",
    "        contact[\"email\"] = new_email\n",
    "        print(\"Contact updated successfully!\")\n",
    "        return\n",
    "    print(\"Contact not found\")\n",
    "\n",
    "# Function to delete the contact\n",
    "def delete_contact():\n",
    "  name = input(\"Enter the name of the contact to delete: \").strip()\n",
    "  for contact in contact_info:\n",
    "    if contact[\"name\"].lower() == name.lower():\n",
    "      contact_info.remove(contact)\n",
    "      print(\"Contact deleted successfully!\")\n",
    "      return\n",
    "    print(\"Contact not found.\")\n",
    "\n",
    "# This is the main function to run the contact book application\n",
    "def main_app():\n",
    "          #  Heading the Application  #\n",
    "  print(\"\\n==============================\")\n",
    "  print(\" Contact Book Application\")\n",
    "  print(\"==============================\")\n",
    "  # heading =\"Contact Book Application\"\n",
    "  # print(\"\\n\"+ heading.center(30,\"=\"))\n",
    "  while True:\n",
    "    display_name()\n",
    "    choice = input(\"Enter your choice: \").strip()\n",
    "    if choice == '1':\n",
    "      add_contact()\n",
    "    elif choice == '2':\n",
    "      view_contact()\n",
    "    elif choice == '3':\n",
    "      search_contact()\n",
    "    elif choice == '4':\n",
    "      edit_contact()\n",
    "    elif choice == '5':\n",
    "      delete_contact()\n",
    "    elif choice == '6':\n",
    "      print(\"Exiting the application . Goodbye!\")\n",
    "      break\n",
    "    else:\n",
    "      print(\"Invalid choice. Please try again.\")\n",
    "\n",
    "\n",
    "\n",
    "\n",
    "\n"
   ]
  },
  {
   "cell_type": "code",
   "execution_count": 22,
   "metadata": {
    "colab": {
     "base_uri": "https://localhost:8080/"
    },
    "executionInfo": {
     "elapsed": 7737,
     "status": "ok",
     "timestamp": 1736697037431,
     "user": {
      "displayName": "Pooja Sharma",
      "userId": "11264392840766783045"
     },
     "user_tz": -345
    },
    "id": "eO837EqW3Kkr",
    "outputId": "a913811c-f638-48a6-a5f4-e45e72d06e4d"
   },
   "outputs": [
    {
     "name": "stdout",
     "output_type": "stream",
     "text": [
      "\n",
      "==============================\n",
      " Contact Book Application\n",
      "==============================\n",
      "\n",
      "Contact Book Menu:\n",
      "1. Add a new contact\n",
      "2. View all contacts\n",
      "3. Search for a contact\n",
      "4. Edit a contact\n",
      "5. Delete a contact\n",
      "6. Exit\n",
      "\n"
     ]
    },
    {
     "name": "stdin",
     "output_type": "stream",
     "text": [
      "Enter your choice:  6\n"
     ]
    },
    {
     "name": "stdout",
     "output_type": "stream",
     "text": [
      "Exiting the application . Goodbye!\n"
     ]
    }
   ],
   "source": [
    "main_app()"
   ]
  },
  {
   "cell_type": "markdown",
   "metadata": {
    "id": "OQ_vDpFy8bUa"
   },
   "source": [
    "**Weekly Project 2 : Warehouse Ordering System**\n",
    "\n",
    "Program Specification: The Warehouse Ordering System manages inventory and processes orders for a warehouse. It should allow users to add new items to the inventory, update existing items, remove items, and process orders. Each inventory item should include details such as item ID, name, quantity, and price. The system should enable viewing current inventory, adding new orders, and updating inventory based on orders. Inputs include inventory management commands (add, update, remove) and order details (item ID, quantity). Outputs are the current status of the inventory and confirmation of order processing. The system should also provide warnings for low stock levels and handle errors in inventory management."
   ]
  },
  {
   "cell_type": "code",
   "execution_count": 23,
   "metadata": {
    "id": "WofFX2u5KH5Q"
   },
   "outputs": [],
   "source": [
    "inventory = {}\n",
    "def display_menu():\n",
    "  print(\"\\nWarehouse Ordering System Menu:\")\n",
    "  print(\"1. Add a new item\")\n",
    "  print(\"2. Update an existing item\")\n",
    "  print(\"3. Remove an item\")\n",
    "  print(\"4. View current inventory\")\n",
    "  print(\"5. Process an order\")\n",
    "  print(\"6. Exit\")\n",
    "\n",
    "def add_item():\n",
    "  item_id = input(\"Enter item ID: \").strip()\n",
    "  name = input(\"Enter item name: \").strip()\n",
    "  quantity = int(input(\"Enter item quantity: \").strip())\n",
    "  price = float(input(\"Enter item price: \").strip())\n",
    "  inventory[item_id] = {\"name\": name,\"quantity\": quantity,\"price\": price}\n",
    "  print(\"Item added successfully!\")\n",
    "\n",
    "def update_item():\n",
    "  item_id = input(\"Enter item ID: \").strip()\n",
    "  if item_id in inventory:\n",
    "    new_quantity = int(input(\"Enter new quantity: \").strip())\n",
    "    new_price = float(input(\"Enter new price: \").strip())\n",
    "    inventory[item_id][\"quantity\"] = new_quantity\n",
    "    inventory[item_id][\"price\"] = new_price\n",
    "    print(\"Item updated successfully!\")\n",
    "  else: print(\"Item not found.\")\n",
    "\n",
    "def remove_item():\n",
    "    item_id = input(\"Enter item ID: \").strip()\n",
    "    if item_id in inventory:\n",
    "      del  inventory[item_id]\n",
    "      print(\"Item removed successfully!\")\n",
    "    else:\n",
    "      print(\"Item not found.\")\n",
    "\n",
    "def view_inventory():\n",
    "  if not inventory:\n",
    "    print(\"No items in inventory.\")\n",
    "  else:\n",
    "    for item_id, details in inventory.items():\n",
    "     print(f\"ID: {item_id}\\nName:{details['name']}\\nQuantity:{details['quantity']}\\nPrice:{details['price']}\\n\")\n",
    "\n",
    "def process_order():\n",
    "  item_id = input(\"Enter item ID: \").strip()\n",
    "  if item_id in inventory:\n",
    "    quantity = int(input(\"Enter quantity to order: \").strip())\n",
    "    if inventory[item_id][\"quantity\"] >= quantity:\n",
    "      inventory[item_id][\"quantity\"] -= quantity\n",
    "      print(f\"Order processed successfully! Remaining quantity: {inventory[item_id]['quantity']}\")\n",
    "    else:\n",
    "      print(\"Insufficient stock. Order cannot be processed.\")\n",
    "  else:\n",
    "    print(\"Item not found.\")\n",
    "\n",
    "def main_fun():\n",
    "  while True:\n",
    "    display_menu()\n",
    "    choice = input(\"Enter you choice: \").strip()\n",
    "    if choice == '1':\n",
    "      add_item()\n",
    "    elif choice == '2':\n",
    "      update_item()\n",
    "    elif choice == '3':\n",
    "      remove_item()\n",
    "    elif choice == '4':\n",
    "      view_inventory()\n",
    "    elif choice == '5':\n",
    "      process_order()\n",
    "    elif choice == '6':\n",
    "      print(\"Exiting the application. Goodbye!\")\n",
    "      break\n",
    "    else:\n",
    "      print(\"Invalid choice. Please try again.\")\n"
   ]
  },
  {
   "cell_type": "code",
   "execution_count": 24,
   "metadata": {
    "colab": {
     "base_uri": "https://localhost:8080/"
    },
    "executionInfo": {
     "elapsed": 131255,
     "status": "ok",
     "timestamp": 1737283091440,
     "user": {
      "displayName": "Pooja Sharma",
      "userId": "11264392840766783045"
     },
     "user_tz": -345
    },
    "id": "RClG9JNED_VO",
    "outputId": "422f3755-4f13-4c87-f0bc-a383fa37ba0b"
   },
   "outputs": [
    {
     "name": "stdout",
     "output_type": "stream",
     "text": [
      "\n",
      "Warehouse Ordering System Menu:\n",
      "1. Add a new item\n",
      "2. Update an existing item\n",
      "3. Remove an item\n",
      "4. View current inventory\n",
      "5. Process an order\n",
      "6. Exit\n"
     ]
    },
    {
     "name": "stdin",
     "output_type": "stream",
     "text": [
      "Enter you choice:  6\n"
     ]
    },
    {
     "name": "stdout",
     "output_type": "stream",
     "text": [
      "Exiting the application. Goodbye!\n"
     ]
    }
   ],
   "source": [
    "main_fun()"
   ]
  },
  {
   "cell_type": "markdown",
   "metadata": {
    "id": "IWFeglhWsu1y"
   },
   "source": [
    "**Weekly Project 3 : Fast Food Shop Cash Register Program**\n",
    "Program Specification: The Fast Food Shop Cash Register Program is designed to manage customer orders at a fast food shop. The program should allow users to create new orders, add items to orders, and finalize orders with a total cost calculation, including applicable taxes. Each menu item should have a name and price. Inputs include commands to manage orders (create, add items, finalize) and customer choices. Outputs are the details of the order, including items ordered and the total cost. The program should also provide options for handling special requests or modifications to standard menu items and manage errors or invalid inputs effectively.\n"
   ]
  },
  {
   "cell_type": "code",
   "execution_count": 25,
   "metadata": {
    "executionInfo": {
     "elapsed": 538,
     "status": "ok",
     "timestamp": 1738350199090,
     "user": {
      "displayName": "Pooja Sharma",
      "userId": "11264392840766783045"
     },
     "user_tz": -345
    },
    "id": "xju-C4m-ESh2"
   },
   "outputs": [],
   "source": [
    "menu_items={\n",
    "    \"vegmomo\":100,\n",
    "    \"allo\":30,\n",
    "    \"chowmin\":90,\n",
    "    \"samosa\":25,\n",
    "    \"pakauda\":50\n",
    "}\n",
    "orders = []\n",
    "\n",
    "def create_order():\n",
    "  order_id=len(orders)+1\n",
    "  orders.append({\"order_id\":order_id,\"items\":[],\"total_cost\":0.0})\n",
    "  print(\"Order created Successfully!\")\n",
    "\n",
    "def add_items():\n",
    "  order_id=int(input(\"Enter order id: \").strip())\n",
    "  item_name=input(\"Enter item name: \").strip()\n",
    "  if item_name in menu_items:\n",
    "    for order in orders:\n",
    "     if order[\"order_id\"] == order_id:\n",
    "      order[\"items\"].append(item_name)\n",
    "      order[\"total_cost\"] += menu_items[item_name]\n",
    "      print(f\"Added {item_name} to order {order_id}.\")\n",
    "      return\n",
    "    print(\"Order not found. Please create the order first. Thank you!\")\n",
    "  else:\n",
    "   print(\"Item is not available in menu\")\n",
    "\n",
    "\n",
    "def finalize_order():\n",
    "  order_id=int(input(\"Enter order id: \").strip())\n",
    "  for order in orders:\n",
    "    if order[\"order_id\"] == order_id:\n",
    "      tax= order[\"total_cost\"]*0.1\n",
    "      total_cost_with_tax = order[\"total_cost\"]+tax\n",
    "      print(f\"Order {order_id} details:\")\n",
    "\n",
    "      for item in order[\"items\"]:\n",
    "        print(f\"- {item}: ${menu_items[item]:.2f}\")\n",
    "      print(f\"Total Cost: ${total_cost_with_tax:.2f}\")\n",
    "      orders.remove(order)\n",
    "      return\n",
    "  print(\"Order not found. Please create the order first. Thank you!\")\n",
    "\n",
    "def view_orders():\n",
    "    if not orders:\n",
    "      print(\"No orders!\")\n",
    "    else:\n",
    "     for order in orders:\n",
    "      print(f\"Order Id:{order['order_id']} , Items:{order['items']} , Total Cost:${order['total_cost']:.2f}\")\n",
    "\n",
    "\n",
    "def display_menu():\n",
    "  print(\"\\nFast Food Shop Cash Register Menu:\")\n",
    "  print(\"1. Create a new order\")\n",
    "  print(\"2. Add items to an order\")\n",
    "  print(\"3. Finalize an order\")\n",
    "  print(\"4. View current orders\")\n",
    "  print(\"5. Exit\")\n",
    "\n",
    "def main_fun():\n",
    "  while True:\n",
    "    display_menu()\n",
    "    choice=input(\"Enter your choice: \").strip()\n",
    "    if choice == '1':\n",
    "      create_order()\n",
    "    elif choice == '2':\n",
    "      add_items()\n",
    "    elif choice == '3':\n",
    "      finalize_order()\n",
    "    elif choice == '4':\n",
    "      view_orders()\n",
    "    elif choice == '5':\n",
    "      print(\"Exiting the application. Goodbye!\")\n",
    "      break\n",
    "    else:\n",
    "      print(\"Invalid choice. Please try again.\")\n"
   ]
  },
  {
   "cell_type": "code",
   "execution_count": 26,
   "metadata": {
    "colab": {
     "base_uri": "https://localhost:8080/"
    },
    "executionInfo": {
     "elapsed": 137423,
     "status": "ok",
     "timestamp": 1738350342920,
     "user": {
      "displayName": "Pooja Sharma",
      "userId": "11264392840766783045"
     },
     "user_tz": -345
    },
    "id": "JPsj745mW4oX",
    "outputId": "0f1898ef-5abb-4dca-fd82-f0772185fda0"
   },
   "outputs": [
    {
     "name": "stdout",
     "output_type": "stream",
     "text": [
      "\n",
      "Fast Food Shop Cash Register Menu:\n",
      "1. Create a new order\n",
      "2. Add items to an order\n",
      "3. Finalize an order\n",
      "4. View current orders\n",
      "5. Exit\n"
     ]
    },
    {
     "name": "stdin",
     "output_type": "stream",
     "text": [
      "Enter your choice:  5\n"
     ]
    },
    {
     "name": "stdout",
     "output_type": "stream",
     "text": [
      "Exiting the application. Goodbye!\n"
     ]
    }
   ],
   "source": [
    "main_fun()"
   ]
  },
  {
   "cell_type": "code",
   "execution_count": null,
   "metadata": {
    "id": "BwLUqydak2Z4"
   },
   "outputs": [],
   "source": []
  }
 ],
 "metadata": {
  "colab": {
   "authorship_tag": "ABX9TyM+erPrak+7sK6bAWbeO3fS",
   "provenance": []
  },
  "kernelspec": {
   "display_name": "Python 3 (ipykernel)",
   "language": "python",
   "name": "python3"
  },
  "language_info": {
   "codemirror_mode": {
    "name": "ipython",
    "version": 3
   },
   "file_extension": ".py",
   "mimetype": "text/x-python",
   "name": "python",
   "nbconvert_exporter": "python",
   "pygments_lexer": "ipython3",
   "version": "3.12.4"
  }
 },
 "nbformat": 4,
 "nbformat_minor": 4
}
